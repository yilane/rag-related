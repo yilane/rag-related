{
 "cells": [
  {
   "cell_type": "markdown",
   "metadata": {},
   "source": [
    "#### 1. 读入图片中的文字"
   ]
  },
  {
   "cell_type": "code",
   "execution_count": null,
   "metadata": {},
   "outputs": [],
   "source": [
    "from langchain_community.document_loaders import UnstructuredImageLoader\n",
    "import pprint\n",
    "\n",
    "image_path = \"../../90-文档_Data/黑神话/黑悟空英文.jpg\"\n",
    "loader = UnstructuredImageLoader(image_path)\n",
    "documents = loader.load()\n",
    "# 打印每个文档的元数据\n",
    "for doc in documents:\n",
    "    pprint.pprint(doc.model_dump())"
   ]
  },
  {
   "cell_type": "markdown",
   "metadata": {},
   "source": [
    "#### 2. 读PPT中的文字\n",
    "- unstructured中的partition_ppt使用 libreoffice 将文件转换为 .pptx ，然后调用 partition_pptx。在使用 partition_ppt 之前，请确保您已安装 libreoffice。"
   ]
  },
  {
   "cell_type": "code",
   "execution_count": null,
   "metadata": {},
   "outputs": [],
   "source": [
    "from unstructured.partition.ppt import partition_ppt\n",
    "\n",
    "# 解析 PPT 文件\n",
    "ppt_elements = partition_ppt(filename=\"../../90-文档_Data/黑神话/黑神话悟空.pptx\")\n",
    "print(\"PPT 内容：\")\n",
    "for element in ppt_elements:\n",
    "    print(element.text)\n",
    "    \n",
    "# from langchain_core.documents import Document\n",
    "# # 转换为 Documents 数据结构\n",
    "# documents = [\n",
    "# Document(page_content=element.text, \n",
    "#   \t     metadata={\"source\": \"../../90-文档_Data/黑神话/黑神话悟空PPT.pptx\"})\n",
    "#     for element in ppt_elements\n",
    "# ]\n",
    "\n",
    "# # 输出转换后的 Documents\n",
    "# print(documents[0:3])"
   ]
  }
 ],
 "metadata": {
  "kernelspec": {
   "display_name": "env_LangChain",
   "language": "python",
   "name": "python3"
  },
  "language_info": {
   "codemirror_mode": {
    "name": "ipython",
    "version": 3
   },
   "file_extension": ".py",
   "mimetype": "text/x-python",
   "name": "python",
   "nbconvert_exporter": "python",
   "pygments_lexer": "ipython3",
   "version": "3.11.11"
  }
 },
 "nbformat": 4,
 "nbformat_minor": 2
}
