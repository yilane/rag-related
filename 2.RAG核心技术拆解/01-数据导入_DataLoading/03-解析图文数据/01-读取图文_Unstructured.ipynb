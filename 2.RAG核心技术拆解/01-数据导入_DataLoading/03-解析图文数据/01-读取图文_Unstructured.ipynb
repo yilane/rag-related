{
 "cells": [
  {
   "cell_type": "markdown",
   "metadata": {},
   "source": [
    "#### 1. 读入图片中的文字"
   ]
  },
  {
   "cell_type": "code",
   "execution_count": 1,
   "metadata": {},
   "outputs": [
    {
     "name": "stdout",
     "output_type": "stream",
     "text": [
      "{'id': None,\n",
      " 'metadata': {'source': '../../90-文档_Data/黑神话/黑悟空英文.jpg'},\n",
      " 'page_content': ',\\n\\nPons\\n\\n= ens eens WUKONGY\\n\\n4',\n",
      " 'type': 'Document'}\n"
     ]
    }
   ],
   "source": [
    "from langchain_community.document_loaders import UnstructuredImageLoader\n",
    "import pprint\n",
    "\n",
    "image_path = \"../../90-文档_Data/黑神话/黑悟空英文.jpg\"\n",
    "loader = UnstructuredImageLoader(image_path)\n",
    "documents = loader.load()\n",
    "# 打印每个文档的元数据\n",
    "for doc in documents:\n",
    "    pprint.pprint(doc.model_dump())"
   ]
  },
  {
   "cell_type": "markdown",
   "metadata": {},
   "source": [
    "#### 2. Unstructured 读PDF中的文字"
   ]
  },
  {
   "cell_type": "code",
   "execution_count": 2,
   "metadata": {},
   "outputs": [
    {
     "name": "stderr",
     "output_type": "stream",
     "text": [
      "CropBox missing from /Page, defaulting to MediaBox\n",
      "CropBox missing from /Page, defaulting to MediaBox\n",
      "CropBox missing from /Page, defaulting to MediaBox\n",
      "CropBox missing from /Page, defaulting to MediaBox\n",
      "CropBox missing from /Page, defaulting to MediaBox\n"
     ]
    },
    {
     "name": "stdout",
     "output_type": "stream",
     "text": [
      "08.20 直面天命\n",
      "序章\n",
      "《黑神话：悟空》是一款基于《西游记》改编的中国神话动作角色扮演游戏，玩家化身 “天命之人”，在险象环生的西游冒险中追寻传说背后的秘密。\n",
      "改编自公元1592年中国神魔小说《西游记》\n",
      "启程\n",
      "无惧\n",
      "历练\n",
      "逢缘\n",
      "启程B\n",
      "L\n",
      "C\n",
      "A\n",
      "K\n",
      "M\n",
      "Y\n",
      "W U\n",
      "G\n",
      "K\n",
      "O\n",
      "N\n",
      "关卡多端\n",
      "雄奇壮丽，光怪陆离 重走西游故地，再写神话结局\n",
      "T\n",
      "第 壹 章\n",
      "H\n",
      "启程\n",
      "无惧\n",
      "历练\n",
      "逢缘\n",
      "天命\n",
      "T I A N\n",
      "M I\n",
      "N\n",
      "G\n",
      "天命人 你,也想当神仙?\n",
      "荒\n",
      "冢\n",
      "一\n",
      "堆\n",
      "草\n",
      "末\n",
      "了\n",
      "古\n",
      "今\n",
      "将\n",
      "相\n",
      "在\n",
      "何\n",
      "方\n",
      "唯\n",
      "有\n",
      "功\n",
      "名\n",
      "忘\n",
      "不\n",
      "了\n",
      "世\n",
      "人\n",
      "都\n",
      "晓\n",
      "神\n",
      "仙\n",
      "好\n",
      "[Document(metadata={'source': '../../90-文档_Data/黑神话/黑神话悟空PDF.pdf'}, page_content='08.20 直面天命'), Document(metadata={'source': '../../90-文档_Data/黑神话/黑神话悟空PDF.pdf'}, page_content='序章'), Document(metadata={'source': '../../90-文档_Data/黑神话/黑神话悟空PDF.pdf'}, page_content='《黑神话：悟空》是一款基于《西游记》改编的中国神话动作角色扮演游戏，玩家化身 “天命之人”，在险象环生的西游冒险中追寻传说背后的秘密。')]\n"
     ]
    }
   ],
   "source": [
    "from unstructured.partition.pdf import partition_pdf\n",
    "\n",
    "# 解析 PDF 文件\n",
    "pdf_elements = partition_pdf(filename=\"../../90-文档_Data/黑神话/黑神话悟空.pdf\")\n",
    "for element in pdf_elements:\n",
    "    print(element.text)\n",
    "    \n",
    "from langchain_core.documents import Document\n",
    "# 转换为 Documents 数据结构\n",
    "documents = [\n",
    "Document(page_content=element.text, \n",
    "  \t     metadata={\"source\": \"../../90-文档_Data/黑神话/黑神话悟空PDF.pdf\"})\n",
    "    for element in pdf_elements\n",
    "]\n",
    "\n",
    "# 输出转换后的 Documents\n",
    "print(documents[0:3])"
   ]
  },
  {
   "cell_type": "markdown",
   "metadata": {},
   "source": [
    "#### 3. Unstructured 读PPT中的文字\n",
    "\n",
    "- unstructured中的partition_ppt使用 libreoffice 将文件转换为 .pptx ，然后调用 partition_pptx。在使用 partition_ppt 之前，请确保您已安装 libreoffice。\n",
    "    ```bash\n",
    "    # 安装命令\n",
    "    sudo apt install -y libreoffice\n",
    "    # 检查 soffice 命令\n",
    "    which soffice && soffice --version\n",
    "    ```"
   ]
  },
  {
   "cell_type": "code",
   "execution_count": 3,
   "metadata": {},
   "outputs": [
    {
     "name": "stdout",
     "output_type": "stream",
     "text": [
      "PPT 内容：\n",
      "\n",
      "\n",
      "\n",
      "无惧\n",
      "历练\n",
      "逢缘\n",
      "B\n",
      "L\n",
      "A\n",
      "C\n",
      "K\n",
      "W\n",
      "U\n",
      "K\n",
      "O\n",
      "\n",
      "无惧\n",
      "历练\n",
      "逢缘\n",
      "T I A N\n",
      "M\n",
      "I\n",
      "N\n",
      "G\n",
      "荒\n",
      "冢\n",
      "一\n",
      "堆\n",
      "草\n",
      "末\n",
      "了\n",
      "古\n",
      "今\n",
      "将\n",
      "相\n",
      "在\n",
      "何\n",
      "方\n",
      "唯\n",
      "有\n",
      "功\n",
      "名\n",
      "忘\n",
      "不\n",
      "了\n",
      "世\n",
      "人\n",
      "都\n",
      "晓\n",
      "神\n",
      "仙\n",
      "好\n",
      "[Document(metadata={'source': '../../90-文档_Data/黑神话/黑神话悟空.pptx'}, page_content=''), Document(metadata={'source': '../../90-文档_Data/黑神话/黑神话悟空.pptx'}, page_content=''), Document(metadata={'source': '../../90-文档_Data/黑神话/黑神话悟空.pptx'}, page_content='')]\n"
     ]
    }
   ],
   "source": [
    "from unstructured.partition.ppt import partition_ppt\n",
    "from langchain_core.documents import Document\n",
    "import pprint\n",
    "\n",
    "# 解析 PPT 文件\n",
    "ppt_elements = partition_ppt(filename=\"../../90-文档_Data/黑神话/黑神话悟空.pptx\")\n",
    "print(\"PPT 内容：\")\n",
    "for element in ppt_elements:\n",
    "    print(element.text)\n",
    "\n",
    "# 转换为 Documents 数据结构\n",
    "documents = [\n",
    "Document(page_content=element.text, \n",
    "  \t     metadata={\"source\": \"../../90-文档_Data/黑神话/黑神话悟空.pptx\"})\n",
    "    for element in ppt_elements\n",
    "]\n",
    "\n",
    "# 输出转换后的 Documents\n",
    "print(documents[0:3])"
   ]
  }
 ],
 "metadata": {
  "kernelspec": {
   "display_name": "env_LangChain",
   "language": "python",
   "name": "python3"
  },
  "language_info": {
   "codemirror_mode": {
    "name": "ipython",
    "version": 3
   },
   "file_extension": ".py",
   "mimetype": "text/x-python",
   "name": "python",
   "nbconvert_exporter": "python",
   "pygments_lexer": "ipython3",
   "version": "3.11.11"
  }
 },
 "nbformat": 4,
 "nbformat_minor": 2
}
