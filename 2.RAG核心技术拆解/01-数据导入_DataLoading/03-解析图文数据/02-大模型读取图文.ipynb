{
 "cells": [
  {
   "cell_type": "markdown",
   "metadata": {},
   "source": [
    "## 通过大模型解析图文"
   ]
  },
  {
   "cell_type": "markdown",
   "metadata": {},
   "source": [
    "#### 1. PDF 转图片"
   ]
  },
  {
   "cell_type": "markdown",
   "metadata": {},
   "source": [
    "- 需要提前安装 poppler-utils 包，处理PDF文件所需的 poppler 工具\n",
    "    ```bash\n",
    "    sudo apt update && sudo apt install -y poppler-utils\n",
    "    ```"
   ]
  },
  {
   "cell_type": "code",
   "execution_count": 12,
   "metadata": {},
   "outputs": [
    {
     "name": "stdout",
     "output_type": "stream",
     "text": [
      "成功转换 5 页\n"
     ]
    }
   ],
   "source": [
    "import os\n",
    "from pdf2image import convert_from_path\n",
    "\n",
    "output_dir = \"temp_images\"\n",
    "if not os.path.exists(output_dir):\n",
    "    os.makedirs(output_dir)\n",
    "\n",
    "images = convert_from_path(\"../../90-文档_Data/黑神话/黑神话悟空.pdf\")\n",
    "image_paths = []\n",
    "for i, image in enumerate(images):\n",
    "    image_path = os.path.join(output_dir, f'page_{i+1}.jpg')\n",
    "    image.save(image_path, 'JPEG')\n",
    "    image_paths.append(image_path)\n",
    "print(f\"成功转换 {len(image_paths)} 页\")"
   ]
  },
  {
   "cell_type": "markdown",
   "metadata": {},
   "source": [
    "#### 2. 使用大模型 分析图片"
   ]
  },
  {
   "cell_type": "code",
   "execution_count": 13,
   "metadata": {},
   "outputs": [
    {
     "name": "stdout",
     "output_type": "stream",
     "text": [
      "\n",
      "开始分析图片...\n",
      "\n",
      "图片分析完成。\n"
     ]
    }
   ],
   "source": [
    "from openai import OpenAI\n",
    "import base64\n",
    "\n",
    "# 初始化OpenAI客户端\n",
    "client = OpenAI(\n",
    "    api_key=os.getenv('OPENAI_API_KEY'),\n",
    "    base_url=os.getenv('OPENAI_API_BASE')\n",
    ")  \n",
    "\n",
    "print(\"\\n开始分析图片...\")\n",
    "results = []\n",
    "for image_path in image_paths:\n",
    "    with open(image_path, \"rb\") as image_file:\n",
    "        base64_image = base64.b64encode(image_file.read()).decode('utf-8')\n",
    "    \n",
    "    response = client.chat.completions.create(\n",
    "        model=\"gpt-4o-mini\",\n",
    "        messages=[\n",
    "            {\n",
    "                \"role\": \"user\",\n",
    "                \"content\": [\n",
    "                    {\"type\": \"text\", \"text\": \"请详细描述这张PPT幻灯片的内容，包括标题、正文和图片内容。\"},\n",
    "                    {\n",
    "                        \"type\": \"image_url\",\n",
    "                        \"image_url\": {\n",
    "                            \"url\": f\"data:image/jpeg;base64,{base64_image}\"\n",
    "                        }\n",
    "                    }\n",
    "                ]\n",
    "            }\n",
    "        ],\n",
    "        max_tokens=300\n",
    "    )\n",
    "results.append(response.choices[0].message.content)\n",
    "print(\"\\n图片分析完成。\")"
   ]
  },
  {
   "cell_type": "markdown",
   "metadata": {},
   "source": [
    "#### 3. 转换为 LangChain 的 Document 数据结构"
   ]
  },
  {
   "cell_type": "code",
   "execution_count": 14,
   "metadata": {},
   "outputs": [
    {
     "name": "stdout",
     "output_type": "stream",
     "text": [
      "\n",
      "分析结果：\n",
      "内容: 这张PPT幻灯片的内容如下：\n",
      "\n",
      "**标题**: 天命\n",
      "\n",
      "**正文**: \n",
      "- 内容为：“天命人，你，也想当神仙？”表达了一种对命运的思考和对超凡境界的向往。\n",
      "\n",
      "**图片内容**: \n",
      "- 幻灯片中展示了一位神话角色的侧脸，面部特征明显，拥有角状的装饰和长长的白色胡须，皮肤呈现绿色调，表情庄重。背景为深色，与角色的颜色形成对比，使其更加突出。\n",
      "\n",
      "整体设计风格神秘且具有东方神话色彩。\n",
      "元数据: {'source': '../../90-文档_Data/黑神话/黑神话悟空.pdf', 'page_number': 1}\n",
      "\n",
      "--------------------------------------------------------------------------------\n"
     ]
    }
   ],
   "source": [
    "from langchain_core.documents import Document\n",
    "\n",
    "documents = [\n",
    "    Document(\n",
    "        page_content=result,\n",
    "        metadata={\"source\": \"../../90-文档_Data/黑神话/黑神话悟空.pdf\", \"page_number\": i + 1}\n",
    "    )\n",
    "    for i, result in enumerate(results)\n",
    "]\n",
    "\n",
    "# 输出所有生成的 Document 对象\n",
    "print(\"\\n分析结果：\")\n",
    "for doc in documents:\n",
    "    print(f\"内容: {doc.page_content}\\n元数据: {doc.metadata}\\n\")\n",
    "    print(\"-\" * 80)\n",
    "\n",
    "# 清理临时文件\n",
    "for image_path in image_paths:\n",
    "    os.remove(image_path)\n",
    "os.rmdir(output_dir)"
   ]
  }
 ],
 "metadata": {
  "kernelspec": {
   "display_name": "env_LangChain",
   "language": "python",
   "name": "python3"
  },
  "language_info": {
   "codemirror_mode": {
    "name": "ipython",
    "version": 3
   },
   "file_extension": ".py",
   "mimetype": "text/x-python",
   "name": "python",
   "nbconvert_exporter": "python",
   "pygments_lexer": "ipython3",
   "version": "3.11.11"
  }
 },
 "nbformat": 4,
 "nbformat_minor": 2
}
