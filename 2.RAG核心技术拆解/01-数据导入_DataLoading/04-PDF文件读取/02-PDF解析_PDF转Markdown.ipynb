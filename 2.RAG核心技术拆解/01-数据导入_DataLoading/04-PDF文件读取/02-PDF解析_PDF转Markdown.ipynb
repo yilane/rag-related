{
 "cells": [
  {
   "cell_type": "markdown",
   "metadata": {},
   "source": [
    "## PDF转Markdown"
   ]
  },
  {
   "cell_type": "markdown",
   "metadata": {},
   "source": [
    "#### 1. 用Marker工具把PDF转Markdown \n",
    "- https://github.com/VikParuchuri/marker"
   ]
  },
  {
   "cell_type": "code",
   "execution_count": 3,
   "metadata": {},
   "outputs": [
    {
     "name": "stdout",
     "output_type": "stream",
     "text": [
      "Loaded layout model s3://layout/2025_02_18 on device cuda with dtype torch.float16\n",
      "Loaded texify model s3://texify/2025_02_18 on device cuda with dtype torch.float16\n",
      "Loaded recognition model s3://text_recognition/2025_02_18 on device cuda with dtype torch.float16\n",
      "Loaded table recognition model s3://table_recognition/2025_02_18 on device cuda with dtype torch.float16\n",
      "Loaded detection model s3://text_detection/2025_02_28 on device cuda with dtype torch.float16\n",
      "Loaded detection model s3://inline_math_detection/2025_02_24 on device cuda with dtype torch.float16\n"
     ]
    },
    {
     "name": "stderr",
     "output_type": "stream",
     "text": [
      "Recognizing layout: 100%|██████████| 3/3 [00:02<00:00,  1.02it/s]\n",
      "Running OCR Error Detection: 100%|██████████| 4/4 [00:00<00:00, 143.66it/s]\n",
      "Detecting bboxes: 100%|██████████| 4/4 [00:01<00:00,  2.55it/s]\n",
      "Recognizing Text: 100%|██████████| 12/12 [00:14<00:00,  1.22s/it]\n",
      "Detecting bboxes: 100%|██████████| 1/1 [00:00<00:00,  3.21it/s]\n",
      "Recognizing Text: 100%|██████████| 1/1 [00:01<00:00,  1.89s/it]\n",
      "Recognizing tables: 100%|██████████| 1/1 [00:00<00:00,  3.79it/s]"
     ]
    },
    {
     "name": "stdout",
     "output_type": "stream",
     "text": [
      "缓冲区\n",
      "\n",
      "846.81公顷\n",
      "\n",
      "![](_page_0_Picture_2.jpeg)\n",
      "\n",
      "# 云网石窟\n",
      "\n",
      "云冈石窟位于中国山西省大同市西郊,主要建于北魏兴 安二年(453年)到太和十九年(495年)间刊,是中国 第一处由皇室显贵主持开凿的大型石窟。整个窟群分 东、中、西三部分。东部的石窟多以佛塔为主,又称塔 洞;中部\"昙曜五窟\"是云冈开凿最早,气魄最大的窟 群;西部窟群时代略晚,大多是北魏迁都洛阳后的作 品。石窟依山开凿,在武州河北岸东西绵延1公里,主要 洞窟达51个(其中保存较好的约20个-1),整个窟群共 有大小佛蹲1100多个,大小佛像51000多尊,最大佛像高 达17米,最小佛像仅有2厘米高。最大石窟是第6窟(北 魏孝文帝时开凿),由地面到窟顶高达20米。\n",
      "\n",
      "此外,在云冈石窟的崖壁后上方,还保留着建于明代、 也称云冈堡的军事要塞遗迹-2。\n",
      "\n",
      "1961年云冈石窟被中华人民共和国国务院列为第一批全 国重点文物保护单位。2001年云冈石窟被列为世界文化 遗产。\n",
      "\n",
      "### היי\n",
      "\n",
      "北魏时,虽有太武帝七年时诏令毁佛焚经,坑杀僧人的 太武灭佛,但大体来说,佛教蓬勃发展,故开窟造像颇 为盛行。\n",
      "\n",
      "初期,昙曜上奏文成帝,于和平元年(460年),在桑干 河的支流武周川旁的断崖上凿山石壁,开窟五所(今称 为昙曜五窟,编号为16-20)。之后,武州山开窟造像大 规模地展开,进入了崇佛的高潮时期。河北等地的数十 万传统匠师雕凿了其他的窟(编号1、2、3、5、6、7、 8、9、10、11、12、13)。孝文帝的\"汉化改革\"在云 冈石窟的雕凿上也有一定程度的影响,故在中区石窟中 (5-13窟)可见到许多带有汉族色彩的佛像。\n",
      "\n",
      "# 云冈省危 世界遗产 rottops 维基媒体 | © OpenStreetMap 官方名称 Yungang Grottoes (英文) Grottes de Yungang (法文) 位置 \\* 中国 (亚洲和太平洋地区) 标准 文化:(i)(ii)(iii)(iv) 参考编码 1039 (https://whc.unesco.org/en/li st/1039) 登录年份 2001年 (第25届会议) 面积 348.75公顷\n",
      "\n",
      "太和十八年迁都洛阳之后,开凿的热潮逐渐衰退,此后窟龛多 由贵族官吏为祈福超渡而建。这些窟多为小型栋窟,即昙曜五 [3] 窟以西的诸小\n"
     ]
    },
    {
     "name": "stderr",
     "output_type": "stream",
     "text": [
      "\n"
     ]
    }
   ],
   "source": [
    "from marker.converters.pdf import PdfConverter\n",
    "from marker.models import create_model_dict\n",
    "from marker.output import text_from_rendered\n",
    "\n",
    "converter = PdfConverter(\n",
    "    artifact_dict=create_model_dict(),\n",
    ")\n",
    "rendered = converter(\"../../90-文档_Data/山西文旅/云冈石窟-ch.pdf\")\n",
    "text, _, images = text_from_rendered(rendered)\n",
    "\n",
    "print(text[0:1000])"
   ]
  }
 ],
 "metadata": {
  "kernelspec": {
   "display_name": "env_Marker",
   "language": "python",
   "name": "python3"
  },
  "language_info": {
   "codemirror_mode": {
    "name": "ipython",
    "version": 3
   },
   "file_extension": ".py",
   "mimetype": "text/x-python",
   "name": "python",
   "nbconvert_exporter": "python",
   "pygments_lexer": "ipython3",
   "version": "3.11.11"
  }
 },
 "nbformat": 4,
 "nbformat_minor": 2
}
