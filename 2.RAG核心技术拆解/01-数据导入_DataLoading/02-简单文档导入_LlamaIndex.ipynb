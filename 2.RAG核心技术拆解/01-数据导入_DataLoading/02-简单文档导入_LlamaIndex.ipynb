{
 "cells": [
  {
   "cell_type": "markdown",
   "metadata": {},
   "source": [
    "### 用LlamaIndex加载文档并创建Documents"
   ]
  },
  {
   "cell_type": "code",
   "execution_count": 10,
   "metadata": {},
   "outputs": [
    {
     "ename": "ImportError",
     "evalue": "Please install extra dependencies that are required for the PptxReader: `pip install torch transformers python-pptx Pillow`",
     "output_type": "error",
     "traceback": [
      "\u001b[31m---------------------------------------------------------------------------\u001b[39m",
      "\u001b[31mModuleNotFoundError\u001b[39m                       Traceback (most recent call last)",
      "\u001b[36mFile \u001b[39m\u001b[32m~/miniconda3/envs/env_LlamaIndex/lib/python3.11/site-packages/llama_index/readers/file/slides/base.py:30\u001b[39m, in \u001b[36mPptxReader.__init__\u001b[39m\u001b[34m(self)\u001b[39m\n\u001b[32m     29\u001b[39m \u001b[38;5;28;01mfrom\u001b[39;00m\u001b[38;5;250m \u001b[39m\u001b[34;01mPIL\u001b[39;00m\u001b[38;5;250m \u001b[39m\u001b[38;5;28;01mimport\u001b[39;00m Image  \u001b[38;5;66;03m# noqa\u001b[39;00m\n\u001b[32m---> \u001b[39m\u001b[32m30\u001b[39m \u001b[38;5;28;01mfrom\u001b[39;00m\u001b[38;5;250m \u001b[39m\u001b[34;01mpptx\u001b[39;00m\u001b[38;5;250m \u001b[39m\u001b[38;5;28;01mimport\u001b[39;00m Presentation  \u001b[38;5;66;03m# noqa\u001b[39;00m\n\u001b[32m     31\u001b[39m \u001b[38;5;28;01mfrom\u001b[39;00m\u001b[38;5;250m \u001b[39m\u001b[34;01mtransformers\u001b[39;00m\u001b[38;5;250m \u001b[39m\u001b[38;5;28;01mimport\u001b[39;00m (\n\u001b[32m     32\u001b[39m     AutoTokenizer,\n\u001b[32m     33\u001b[39m     VisionEncoderDecoderModel,\n\u001b[32m     34\u001b[39m     ViTFeatureExtractor,\n\u001b[32m     35\u001b[39m )\n",
      "\u001b[31mModuleNotFoundError\u001b[39m: No module named 'pptx'",
      "\nDuring handling of the above exception, another exception occurred:\n",
      "\u001b[31mImportError\u001b[39m                               Traceback (most recent call last)",
      "\u001b[36mCell\u001b[39m\u001b[36m \u001b[39m\u001b[32mIn[10]\u001b[39m\u001b[32m, line 5\u001b[39m\n\u001b[32m      3\u001b[39m \u001b[38;5;66;03m# 使用 SimpleDirectoryReader 加载目录中的文件\u001b[39;00m\n\u001b[32m      4\u001b[39m dir_reader = SimpleDirectoryReader(\u001b[33m\"\u001b[39m\u001b[33mdata/黑神话悟空\u001b[39m\u001b[33m\"\u001b[39m)\n\u001b[32m----> \u001b[39m\u001b[32m5\u001b[39m documents = \u001b[43mdir_reader\u001b[49m\u001b[43m.\u001b[49m\u001b[43mload_data\u001b[49m\u001b[43m(\u001b[49m\u001b[43m)\u001b[49m\n\u001b[32m      6\u001b[39m \u001b[38;5;66;03m# 查看加载的文档数量和内容\u001b[39;00m\n\u001b[32m      7\u001b[39m \u001b[38;5;28mprint\u001b[39m(\u001b[33mf\u001b[39m\u001b[33m\"\u001b[39m\u001b[33m文档数量: \u001b[39m\u001b[38;5;132;01m{\u001b[39;00m\u001b[38;5;28mlen\u001b[39m(documents)\u001b[38;5;132;01m}\u001b[39;00m\u001b[33m\"\u001b[39m)\n",
      "\u001b[36mFile \u001b[39m\u001b[32m~/miniconda3/envs/env_LlamaIndex/lib/python3.11/site-packages/llama_index/core/readers/file/base.py:732\u001b[39m, in \u001b[36mSimpleDirectoryReader.load_data\u001b[39m\u001b[34m(self, show_progress, num_workers, fs)\u001b[39m\n\u001b[32m    727\u001b[39m         files_to_process = tqdm(\n\u001b[32m    728\u001b[39m             \u001b[38;5;28mself\u001b[39m.input_files, desc=\u001b[33m\"\u001b[39m\u001b[33mLoading files\u001b[39m\u001b[33m\"\u001b[39m, unit=\u001b[33m\"\u001b[39m\u001b[33mfile\u001b[39m\u001b[33m\"\u001b[39m\n\u001b[32m    729\u001b[39m         )\n\u001b[32m    730\u001b[39m     \u001b[38;5;28;01mfor\u001b[39;00m input_file \u001b[38;5;129;01min\u001b[39;00m files_to_process:\n\u001b[32m    731\u001b[39m         documents.extend(\n\u001b[32m--> \u001b[39m\u001b[32m732\u001b[39m             \u001b[43mSimpleDirectoryReader\u001b[49m\u001b[43m.\u001b[49m\u001b[43mload_file\u001b[49m\u001b[43m(\u001b[49m\n\u001b[32m    733\u001b[39m \u001b[43m                \u001b[49m\u001b[43minput_file\u001b[49m\u001b[43m=\u001b[49m\u001b[43minput_file\u001b[49m\u001b[43m,\u001b[49m\n\u001b[32m    734\u001b[39m \u001b[43m                \u001b[49m\u001b[43mfile_metadata\u001b[49m\u001b[43m=\u001b[49m\u001b[38;5;28;43mself\u001b[39;49m\u001b[43m.\u001b[49m\u001b[43mfile_metadata\u001b[49m\u001b[43m,\u001b[49m\n\u001b[32m    735\u001b[39m \u001b[43m                \u001b[49m\u001b[43mfile_extractor\u001b[49m\u001b[43m=\u001b[49m\u001b[38;5;28;43mself\u001b[39;49m\u001b[43m.\u001b[49m\u001b[43mfile_extractor\u001b[49m\u001b[43m,\u001b[49m\n\u001b[32m    736\u001b[39m \u001b[43m                \u001b[49m\u001b[43mfilename_as_id\u001b[49m\u001b[43m=\u001b[49m\u001b[38;5;28;43mself\u001b[39;49m\u001b[43m.\u001b[49m\u001b[43mfilename_as_id\u001b[49m\u001b[43m,\u001b[49m\n\u001b[32m    737\u001b[39m \u001b[43m                \u001b[49m\u001b[43mencoding\u001b[49m\u001b[43m=\u001b[49m\u001b[38;5;28;43mself\u001b[39;49m\u001b[43m.\u001b[49m\u001b[43mencoding\u001b[49m\u001b[43m,\u001b[49m\n\u001b[32m    738\u001b[39m \u001b[43m                \u001b[49m\u001b[43merrors\u001b[49m\u001b[43m=\u001b[49m\u001b[38;5;28;43mself\u001b[39;49m\u001b[43m.\u001b[49m\u001b[43merrors\u001b[49m\u001b[43m,\u001b[49m\n\u001b[32m    739\u001b[39m \u001b[43m                \u001b[49m\u001b[43mraise_on_error\u001b[49m\u001b[43m=\u001b[49m\u001b[38;5;28;43mself\u001b[39;49m\u001b[43m.\u001b[49m\u001b[43mraise_on_error\u001b[49m\u001b[43m,\u001b[49m\n\u001b[32m    740\u001b[39m \u001b[43m                \u001b[49m\u001b[43mfs\u001b[49m\u001b[43m=\u001b[49m\u001b[43mfs\u001b[49m\u001b[43m,\u001b[49m\n\u001b[32m    741\u001b[39m \u001b[43m            \u001b[49m\u001b[43m)\u001b[49m\n\u001b[32m    742\u001b[39m         )\n\u001b[32m    744\u001b[39m \u001b[38;5;28;01mreturn\u001b[39;00m \u001b[38;5;28mself\u001b[39m._exclude_metadata(documents)\n",
      "\u001b[36mFile \u001b[39m\u001b[32m~/miniconda3/envs/env_LlamaIndex/lib/python3.11/site-packages/llama_index/core/readers/file/base.py:564\u001b[39m, in \u001b[36mSimpleDirectoryReader.load_file\u001b[39m\u001b[34m(input_file, file_metadata, file_extractor, filename_as_id, encoding, errors, raise_on_error, fs)\u001b[39m\n\u001b[32m    561\u001b[39m \u001b[38;5;28;01mif\u001b[39;00m file_suffix \u001b[38;5;129;01mnot\u001b[39;00m \u001b[38;5;129;01min\u001b[39;00m file_extractor:\n\u001b[32m    562\u001b[39m     \u001b[38;5;66;03m# instantiate file reader if not already\u001b[39;00m\n\u001b[32m    563\u001b[39m     reader_cls = default_file_reader_cls[file_suffix]\n\u001b[32m--> \u001b[39m\u001b[32m564\u001b[39m     file_extractor[file_suffix] = \u001b[43mreader_cls\u001b[49m\u001b[43m(\u001b[49m\u001b[43m)\u001b[49m\n\u001b[32m    565\u001b[39m reader = file_extractor[file_suffix]\n\u001b[32m    567\u001b[39m \u001b[38;5;66;03m# load data -- catch all errors except for ImportError\u001b[39;00m\n",
      "\u001b[36mFile \u001b[39m\u001b[32m~/miniconda3/envs/env_LlamaIndex/lib/python3.11/site-packages/llama_index/readers/file/slides/base.py:37\u001b[39m, in \u001b[36mPptxReader.__init__\u001b[39m\u001b[34m(self)\u001b[39m\n\u001b[32m     31\u001b[39m     \u001b[38;5;28;01mfrom\u001b[39;00m\u001b[38;5;250m \u001b[39m\u001b[34;01mtransformers\u001b[39;00m\u001b[38;5;250m \u001b[39m\u001b[38;5;28;01mimport\u001b[39;00m (\n\u001b[32m     32\u001b[39m         AutoTokenizer,\n\u001b[32m     33\u001b[39m         VisionEncoderDecoderModel,\n\u001b[32m     34\u001b[39m         ViTFeatureExtractor,\n\u001b[32m     35\u001b[39m     )\n\u001b[32m     36\u001b[39m \u001b[38;5;28;01mexcept\u001b[39;00m \u001b[38;5;167;01mImportError\u001b[39;00m:\n\u001b[32m---> \u001b[39m\u001b[32m37\u001b[39m     \u001b[38;5;28;01mraise\u001b[39;00m \u001b[38;5;167;01mImportError\u001b[39;00m(\n\u001b[32m     38\u001b[39m         \u001b[33m\"\u001b[39m\u001b[33mPlease install extra dependencies that are required for \u001b[39m\u001b[33m\"\u001b[39m\n\u001b[32m     39\u001b[39m         \u001b[33m\"\u001b[39m\u001b[33mthe PptxReader: \u001b[39m\u001b[33m\"\u001b[39m\n\u001b[32m     40\u001b[39m         \u001b[33m\"\u001b[39m\u001b[33m`pip install torch transformers python-pptx Pillow`\u001b[39m\u001b[33m\"\u001b[39m\n\u001b[32m     41\u001b[39m     )\n\u001b[32m     43\u001b[39m model = VisionEncoderDecoderModel.from_pretrained(\n\u001b[32m     44\u001b[39m     \u001b[33m\"\u001b[39m\u001b[33mnlpconnect/vit-gpt2-image-captioning\u001b[39m\u001b[33m\"\u001b[39m\n\u001b[32m     45\u001b[39m )\n\u001b[32m     46\u001b[39m feature_extractor = ViTFeatureExtractor.from_pretrained(\n\u001b[32m     47\u001b[39m     \u001b[33m\"\u001b[39m\u001b[33mnlpconnect/vit-gpt2-image-captioning\u001b[39m\u001b[33m\"\u001b[39m\n\u001b[32m     48\u001b[39m )\n",
      "\u001b[31mImportError\u001b[39m: Please install extra dependencies that are required for the PptxReader: `pip install torch transformers python-pptx Pillow`"
     ]
    }
   ],
   "source": [
    "from llama_index.core import SimpleDirectoryReader\n",
    "\n",
    "# 使用 SimpleDirectoryReader 加载目录中的文件\n",
    "dir_reader = SimpleDirectoryReader(\"data/黑神话悟空\")\n",
    "documents = dir_reader.load_data()\n",
    "# 查看加载的文档数量和内容\n",
    "print(f\"文档数量: {len(documents)}\")\n",
    "print(documents[0].text[:100])  # 打印第一个文档的前100个字符"
   ]
  },
  {
   "cell_type": "markdown",
   "metadata": {},
   "source": [
    "### 仅加载某一个特定文件"
   ]
  },
  {
   "cell_type": "code",
   "execution_count": 2,
   "metadata": {},
   "outputs": [
    {
     "name": "stdout",
     "output_type": "stream",
     "text": [
      "文档数量: 1\n",
      "《黑神话：悟空》的故事可分为六个章节，名为“火照黑云”、“风起黄昏”、“夜生白露”、“曲度紫鸳”、“日落红尘”和“未竟”，并且拥有两个结局，玩家的选择和经历将影响最终的结局。\n",
      "\n",
      "每个章节结尾，附有\n"
     ]
    }
   ],
   "source": [
    "from llama_index.core import SimpleDirectoryReader\n",
    "\n",
    "dir_reader = SimpleDirectoryReader(input_files=[\"data/黑神话悟空/黑悟空设定.txt\"])\n",
    "documents = dir_reader.load_data()\n",
    "print(f\"文档数量: {len(documents)}\")\n",
    "print(documents[0].text[:100])  # 打印第一个文档的前100个字符"
   ]
  },
  {
   "cell_type": "markdown",
   "metadata": {},
   "source": [
    "### 创建Document对象"
   ]
  },
  {
   "cell_type": "code",
   "execution_count": 9,
   "metadata": {},
   "outputs": [
    {
     "name": "stdout",
     "output_type": "stream",
     "text": [
      "Metadata for 火照深渊场景.md:\n",
      "  filename: 火照深渊场景.md\n",
      "  category: 游戏场景\n",
      "  file_path: /data/黑悟空/火照深渊场景.md\n",
      "  author: GameScience\n",
      "  creation_date: 2024-11-20\n",
      "  last_modified_date: 2024-11-21\n",
      "  file_type: markdown\n",
      "  word_count: 28\n",
      "Metadata for 风起长空场景.md:\n",
      "  filename: 风起长空场景.md\n",
      "  category: 游戏场景\n",
      "  file_path: /data/黑悟空/风起长空场景.md\n",
      "  author: GameScience\n",
      "  creation_date: 2024-11-20\n",
      "  last_modified_date: 2024-11-21\n",
      "  file_type: markdown\n",
      "  word_count: 28\n",
      "----------------------------------------\n"
     ]
    }
   ],
   "source": [
    "from llama_index.core import Document\n",
    "\n",
    "# 创建多个文档对象，并为其添加元数据\n",
    "documents = [\n",
    "    Document(\n",
    "        text=\"一个充满烈焰和硫磺气息的地下洞窟，火焰从地底不断喷涌，照亮整个深渊。场景中有熔岩河流穿行，燃烧的火山石在空中漂浮。悟空需要利用自己的跳跃能力和金箍棒在熔岩之间穿行，同时对抗来自地狱的火焰妖怪。\",\n",
    "        metadata={\n",
    "            \"filename\": \"火照深渊场景.md\",\n",
    "            \"category\": \"游戏场景\",\n",
    "            \"file_path\": \"/data/黑悟空/火照深渊场景.md\",\n",
    "            \"author\": \"GameScience\",\n",
    "            \"creation_date\": \"2024-11-20\",\n",
    "            \"last_modified_date\": \"2024-11-21\",\n",
    "            \"file_type\": \"markdown\",\n",
    "            \"word_count\": 28,\n",
    "        },\n",
    "    ),\n",
    "    Document(\n",
    "        text=\"一片高耸入云的山脉，云雾缭绕，风力强劲。悟空需要通过飞跃山崖、利用筋斗云飞行，以及在大风中保持平衡来穿越场景。敌人主要是隐匿在云层中的飞禽妖怪和岩石机关兽。\",\n",
    "        metadata={\n",
    "            \"filename\": \"风起长空场景.md\",\n",
    "            \"category\": \"游戏场景\",\n",
    "            \"file_path\": \"/data/黑悟空/风起长空场景.md\",\n",
    "            \"author\": \"GameScience\",\n",
    "            \"creation_date\": \"2024-11-20\",\n",
    "            \"last_modified_date\": \"2024-11-21\",\n",
    "            \"file_type\": \"markdown\",\n",
    "            \"word_count\": 28,\n",
    "        },\n",
    "    )]   \n",
    "\n",
    "# 打印每个文档的元数据\n",
    "for doc in documents:\n",
    "    print(f\"Metadata for {doc.metadata['filename']}:\")\n",
    "    for key, value in doc.metadata.items():\n",
    "        print(f\"  {key}: {value}\")\n",
    "print(\"-\" * 40)"
   ]
  }
 ],
 "metadata": {
  "kernelspec": {
   "display_name": "env_LlamaIndex",
   "language": "python",
   "name": "python3"
  },
  "language_info": {
   "codemirror_mode": {
    "name": "ipython",
    "version": 3
   },
   "file_extension": ".py",
   "mimetype": "text/x-python",
   "name": "python",
   "nbconvert_exporter": "python",
   "pygments_lexer": "ipython3",
   "version": "3.11.11"
  }
 },
 "nbformat": 4,
 "nbformat_minor": 2
}
