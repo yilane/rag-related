{
 "cells": [
  {
   "cell_type": "markdown",
   "metadata": {},
   "source": [
    "### 用Unstructured工具读取各式类型的文档"
   ]
  },
  {
   "cell_type": "code",
   "execution_count": 5,
   "metadata": {},
   "outputs": [
    {
     "name": "stdout",
     "output_type": "stream",
     "text": [
      "《黑神话：悟空》的故事可分为六个章节，名为“火照黑云”、“风起黄昏”、“夜生白露”、“曲度紫鸳”、“日落红尘”和“未竟”，并且拥有两个结局，玩家的选择和经历将影响最终的结局。\n",
      "每个章节结尾，附有二维和三维的动画过场，展示和探索《黑神话：悟空》中的叙事和主题元素。\n",
      "游戏的设定融合了中国的文化和自然地标。例如重庆的大足石刻、山西省的小西天、南禅寺、铁佛寺、广胜寺和鹳雀楼等，都在游戏中出现。游戏也融入了佛教和道教的哲学元素。\n"
     ]
    }
   ],
   "source": [
    "from unstructured.partition.text import partition_text\n",
    "\n",
    "text = \"data/黑神话悟空/黑悟空设定.txt\"\n",
    "elements = partition_text(text)\n",
    "for element in elements:\n",
    "    print(element)"
   ]
  },
  {
   "cell_type": "markdown",
   "metadata": {},
   "source": [
    "### 通过vars函数查看所有可用的元数据"
   ]
  },
  {
   "cell_type": "code",
   "execution_count": 6,
   "metadata": {},
   "outputs": [
    {
     "name": "stdout",
     "output_type": "stream",
     "text": [
      "\n",
      "--- Element 1 ---\n",
      "类型: <class 'unstructured.documents.elements.Title'>\n",
      "元素类型: Title\n",
      "文本内容: 《黑神话：悟空》的故事可分为六个章节，名为“火照黑云”、“风起黄昏”、“夜生白露”、“曲度紫鸳”、“日落红尘”和“未竟”，并且拥有两个结局，玩家的选择和经历将影响最终的结局。\n",
      "元数据:\n",
      "  last_modified: 2025-04-18T01:20:02\n",
      "  languages: ['zho']\n",
      "  file_directory: data/黑神话悟空\n",
      "  filename: 黑悟空设定.txt\n",
      "  filetype: text/plain\n",
      "\n",
      "--- Element 2 ---\n",
      "类型: <class 'unstructured.documents.elements.Title'>\n",
      "元素类型: Title\n",
      "文本内容: 每个章节结尾，附有二维和三维的动画过场，展示和探索《黑神话：悟空》中的叙事和主题元素。\n",
      "元数据:\n",
      "  last_modified: 2025-04-18T01:20:02\n",
      "  languages: ['zho']\n",
      "  file_directory: data/黑神话悟空\n",
      "  filename: 黑悟空设定.txt\n",
      "  filetype: text/plain\n",
      "\n",
      "--- Element 3 ---\n",
      "类型: <class 'unstructured.documents.elements.Title'>\n",
      "元素类型: Title\n",
      "文本内容: 游戏的设定融合了中国的文化和自然地标。例如重庆的大足石刻、山西省的小西天、南禅寺、铁佛寺、广胜寺和鹳雀楼等，都在游戏中出现。游戏也融入了佛教和道教的哲学元素。\n",
      "元数据:\n",
      "  last_modified: 2025-04-18T01:20:02\n",
      "  languages: ['zho']\n",
      "  file_directory: data/黑神话悟空\n",
      "  filename: 黑悟空设定.txt\n",
      "  filetype: text/plain\n"
     ]
    }
   ],
   "source": [
    "# 通过vars函数查看所有可用的元数据\n",
    "for i, element in enumerate(elements):\n",
    "    print(f\"\\n--- Element {i+1} ---\")\n",
    "    print(f\"类型: {type(element)}\")\n",
    "    print(f\"元素类型: {element.__class__.__name__}\")\n",
    "    print(f\"文本内容: {element.text}\")\n",
    "    \n",
    "    # 元数据展示\n",
    "    if hasattr(element, 'metadata'):\n",
    "        print(\"元数据:\")\n",
    "        metadata = vars(element.metadata)\n",
    "        valid_metadata = {k: v for k, v in metadata.items() \n",
    "                         if not k.startswith('_') and v is not None}\n",
    "        for key, value in valid_metadata.items():\n",
    "            print(f\"  {key}: {value}\")"
   ]
  },
  {
   "cell_type": "markdown",
   "metadata": {},
   "source": [
    "### 使用__dict__来查看所有可用的元数据"
   ]
  },
  {
   "cell_type": "code",
   "execution_count": 7,
   "metadata": {},
   "outputs": [
    {
     "name": "stdout",
     "output_type": "stream",
     "text": [
      "\n",
      "--- Element 1 ---\n",
      "类型: <class 'unstructured.documents.elements.Title'>\n",
      "元素类: Title\n",
      "文本内容: 《黑神话：悟空》的故事可分为六个章节，名为“火照黑云”、“风起黄昏”、“夜生白露”、“曲度紫鸳”、“日落红尘”和“未竟”，并且拥有两个结局，玩家的选择和经历将影响最终的结局。\n",
      "元数据:\n",
      "  last_modified: 2025-04-18T01:20:02\n",
      "  languages: ['zho']\n",
      "  file_directory: data/黑神话悟空\n",
      "  filename: 黑悟空设定.txt\n",
      "  filetype: text/plain\n",
      "\n",
      "--- Element 2 ---\n",
      "类型: <class 'unstructured.documents.elements.Title'>\n",
      "元素类: Title\n",
      "文本内容: 每个章节结尾，附有二维和三维的动画过场，展示和探索《黑神话：悟空》中的叙事和主题元素。\n",
      "元数据:\n",
      "  last_modified: 2025-04-18T01:20:02\n",
      "  languages: ['zho']\n",
      "  file_directory: data/黑神话悟空\n",
      "  filename: 黑悟空设定.txt\n",
      "  filetype: text/plain\n",
      "\n",
      "--- Element 3 ---\n",
      "类型: <class 'unstructured.documents.elements.Title'>\n",
      "元素类: Title\n",
      "文本内容: 游戏的设定融合了中国的文化和自然地标。例如重庆的大足石刻、山西省的小西天、南禅寺、铁佛寺、广胜寺和鹳雀楼等，都在游戏中出现。游戏也融入了佛教和道教的哲学元素。\n",
      "元数据:\n",
      "  last_modified: 2025-04-18T01:20:02\n",
      "  languages: ['zho']\n",
      "  file_directory: data/黑神话悟空\n",
      "  filename: 黑悟空设定.txt\n",
      "  filetype: text/plain\n"
     ]
    }
   ],
   "source": [
    "# 使用__dict__来查看所有可用的元数据\n",
    "for i, element in enumerate(elements):\n",
    "    print(f\"\\n--- Element {i+1} ---\")\n",
    "    print(f\"类型: {type(element)}\")\n",
    "    print(f\"元素类: {element.__class__.__name__}\")\n",
    "    print(f\"文本内容: {element.text}\")\n",
    "    \n",
    "    if hasattr(element, 'metadata'):\n",
    "        print(\"元数据:\")\n",
    "        metadata_dict = element.metadata.__dict__\n",
    "        for key, value in metadata_dict.items():\n",
    "            if not key.startswith('_') and value is not None:  \n",
    "                print(f\"  {key}: {value}\")"
   ]
  }
 ],
 "metadata": {
  "kernelspec": {
   "display_name": "env_LangChain",
   "language": "python",
   "name": "python3"
  },
  "language_info": {
   "codemirror_mode": {
    "name": "ipython",
    "version": 3
   },
   "file_extension": ".py",
   "mimetype": "text/x-python",
   "name": "python",
   "nbconvert_exporter": "python",
   "pygments_lexer": "ipython3",
   "version": "3.11.11"
  }
 },
 "nbformat": 4,
 "nbformat_minor": 2
}
