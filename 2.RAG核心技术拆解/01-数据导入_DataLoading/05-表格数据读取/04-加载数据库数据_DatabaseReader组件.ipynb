{
 "cells": [
  {
   "cell_type": "code",
   "execution_count": 8,
   "metadata": {},
   "outputs": [
    {
     "name": "stdout",
     "output_type": "stream",
     "text": [
      "从数据库加载的文档数量: 8\n",
      "[Document(id_='185e1f5a-1e1c-4b87-b382-de451c14c42e', embedding=None, metadata={}, excluded_embed_metadata_keys=[], excluded_llm_metadata_keys=[], relationships={}, metadata_template='{key}: {value}', metadata_separator='\\n', text_resource=MediaResource(embeddings=None, data=None, text='id: 1, store_id: 0, store_name: 门店3, salesperson_id: 1, salesperson_name: 曾111, phone_brand_id: 2, phone_brand_name: 三星 (Samsung), phone_model_id: 0, phone_model_name: 2222, imei: 12122222222222222222222222, customer_name: 33333, customer_phone: 13255555555, photo_url: http://localhost:8082/storage/uploads/sales/20250410/20250410/1baf74a9df59ae0f5c945c3322d50e55.jpg, remark: , create_time: 2025-04-10 11:47:30, update_time: 2025-04-10 11:47:30', path=None, url=None, mimetype=None), image_resource=None, audio_resource=None, video_resource=None, text_template='{metadata_str}\\n\\n{content}'), Document(id_='8c1a3e92-7fab-42c0-bf01-5b623cb142b3', embedding=None, metadata={}, excluded_embed_metadata_keys=[], excluded_llm_metadata_keys=[], relationships={}, metadata_template='{key}: {value}', metadata_separator='\\n', text_resource=MediaResource(embeddings=None, data=None, text='id: 2, store_id: 0, store_name: 门店3, salesperson_id: 1, salesperson_name: 曾111, phone_brand_id: 1, phone_brand_name: 苹果 (Apple), phone_model_id: 0, phone_model_name: 16, imei: 12121212121212, customer_name: 456, customer_phone: 18643232323, photo_url: http://localhost:8082/storage/uploads/sales/20250410/20250410/a9e7a7a29c075bfc4bbbae7df30e6036.png,http://localhost:8082/storage/uploads/sales/20250410/20250410/34f634321503490e97538ccf1b3273ba.png, remark: , create_time: 2025-04-10 11:49:18, update_time: 2025-04-10 11:49:18', path=None, url=None, mimetype=None), image_resource=None, audio_resource=None, video_resource=None, text_template='{metadata_str}\\n\\n{content}'), Document(id_='69d02145-2523-419c-8347-41bf2ee6b2e3', embedding=None, metadata={}, excluded_embed_metadata_keys=[], excluded_llm_metadata_keys=[], relationships={}, metadata_template='{key}: {value}', metadata_separator='\\n', text_resource=MediaResource(embeddings=None, data=None, text='id: 3, store_id: 0, store_name: 门店6, salesperson_id: 1, salesperson_name: 曾111, phone_brand_id: 1, phone_brand_name: 苹果 (Apple), phone_model_id: 0, phone_model_name: 12, imei: 12121212121211, customer_name: 456, customer_phone: 15621212121, photo_url: http://localhost:8082/storage/uploads/sales/20250410/20250410/c9b5b74521749179ffe62498fe778555.jpg,http://localhost:8082/storage/uploads/sales/20250410/20250410/817c46589030a5c3be502795803fd9ca.jpg,http://localhost:8082/storage/uploads/sales/20250410/20250410/763619f71150982bf5fcddb3fba8249f.jpg, remark: , create_time: 2025-04-10 11:50:20, update_time: 2025-04-10 11:50:20', path=None, url=None, mimetype=None), image_resource=None, audio_resource=None, video_resource=None, text_template='{metadata_str}\\n\\n{content}'), Document(id_='dbdc4201-5be3-470c-b326-18548541e785', embedding=None, metadata={}, excluded_embed_metadata_keys=[], excluded_llm_metadata_keys=[], relationships={}, metadata_template='{key}: {value}', metadata_separator='\\n', text_resource=MediaResource(embeddings=None, data=None, text='id: 4, store_id: 0, store_name: 门店7, salesperson_id: 1, salesperson_name: 曾111, phone_brand_id: 1, phone_brand_name: 苹果 (Apple), phone_model_id: 0, phone_model_name: 12, imei: 333333333333333, customer_name: 234, customer_phone: 13212121212, photo_url: http://localhost:8082/storage/uploads/sales/20250410/20250410/f7d86fc8355d08c53b2c293b76f669f5.jpg,http://localhost:8082/storage/uploads/sales/20250410/20250410/a4c95e7d9da693d338f9dc69e9d86e20.jpg,http://localhost:8082/storage/uploads/sales/20250410/20250410/920d89969f5d30ea1ccf31cbec9330ab.jpg, remark: , create_time: 2025-04-10 12:28:56, update_time: 2025-04-10 12:28:56', path=None, url=None, mimetype=None), image_resource=None, audio_resource=None, video_resource=None, text_template='{metadata_str}\\n\\n{content}'), Document(id_='58daaed1-2331-492b-a07f-d73d6c705d3d', embedding=None, metadata={}, excluded_embed_metadata_keys=[], excluded_llm_metadata_keys=[], relationships={}, metadata_template='{key}: {value}', metadata_separator='\\n', text_resource=MediaResource(embeddings=None, data=None, text='id: 5, store_id: 0, store_name: 门店7, salesperson_id: 1, salesperson_name: 曾111, phone_brand_id: 3, phone_brand_name: 华为 (Huawei), phone_model_id: 0, phone_model_name: 2333, imei: 453535333333333333, customer_name: 453, customer_phone: 18612223232, photo_url: http://localhost:8082/storage/uploads/sales/20250410/20250410/3a6ecd72cb795fdea5ece710a04509a8.jpg,http://localhost:8082/storage/uploads/sales/20250410/20250410/d78928865a24d3549964a5ebf4c9ff8c.jpg,http://localhost:8082/storage/uploads/sales/20250410/20250410/494cd997bb2524461cdcecead122c6ba.png,http://localhost:8082/storage/uploads/sales/20250410/20250410/570caf1f5c3a505ca8ccd1e48f48f98e.jpg, remark: , create_time: 2025-04-10 12:35:44, update_time: 2025-04-10 12:35:44', path=None, url=None, mimetype=None), image_resource=None, audio_resource=None, video_resource=None, text_template='{metadata_str}\\n\\n{content}'), Document(id_='479b8f2a-5b6d-4a09-8378-b95085820518', embedding=None, metadata={}, excluded_embed_metadata_keys=[], excluded_llm_metadata_keys=[], relationships={}, metadata_template='{key}: {value}', metadata_separator='\\n', text_resource=MediaResource(embeddings=None, data=None, text='id: 6, store_id: 0, store_name: 门店8, salesperson_id: 1, salesperson_name: 曾111, phone_brand_id: 1, phone_brand_name: 苹果 (Apple), phone_model_id: 0, phone_model_name: iphone14, imei: 432323423232, customer_name: 王先生, customer_phone: 18671122121, photo_url: http://localhost:8082/storage/uploads/sales/20250410/20250410/375d0673842d6d99c33605d5370e33ce.png,http://localhost:8082/storage/uploads/sales/20250410/20250410/1934296fc92785b8dc9786617e5f250f.png, remark: , create_time: 2025-04-10 16:31:55, update_time: 2025-04-10 16:31:55', path=None, url=None, mimetype=None), image_resource=None, audio_resource=None, video_resource=None, text_template='{metadata_str}\\n\\n{content}'), Document(id_='81f5b7df-4a8e-4f76-a6f0-936e7f51acbe', embedding=None, metadata={}, excluded_embed_metadata_keys=[], excluded_llm_metadata_keys=[], relationships={}, metadata_template='{key}: {value}', metadata_separator='\\n', text_resource=MediaResource(embeddings=None, data=None, text='id: 7, store_id: 0, store_name: 门店9, salesperson_id: 1, salesperson_name: 曾111, phone_brand_id: 4, phone_brand_name: 小米 (Xiaomi), phone_model_id: 0, phone_model_name: 15, imei: 423232321212121, customer_name: 456, customer_phone: 18661212121, photo_url: http://localhost:8082/storage/uploads/sales/20250410/20250410/82a603e7ed50939da149c3481b42906a.png,http://localhost:8082/storage/uploads/sales/20250410/20250410/34a66c1abf4759d5a63e60fac478a317.png,http://localhost:8082/storage/uploads/sales/20250410/20250410/bbb33f9c34305f6612225ae4d96d7dc4.png, remark: , create_time: 2025-04-10 16:33:57, update_time: 2025-04-10 16:33:57', path=None, url=None, mimetype=None), image_resource=None, audio_resource=None, video_resource=None, text_template='{metadata_str}\\n\\n{content}'), Document(id_='c7b003c0-10c8-4a80-9793-977e69f87244', embedding=None, metadata={}, excluded_embed_metadata_keys=[], excluded_llm_metadata_keys=[], relationships={}, metadata_template='{key}: {value}', metadata_separator='\\n', text_resource=MediaResource(embeddings=None, data=None, text='id: 8, store_id: 0, store_name: 门店6, salesperson_id: 1, salesperson_name: 曾111, phone_brand_id: 4, phone_brand_name: 小米 (Xiaomi), phone_model_id: 0, phone_model_name: 13, imei: 43434343434343, customer_name: 刘先生, customer_phone: 13221212121, photo_url: http://localhost:8082/storage/uploads/sales/20250410/20250410/39ddf937390ea0e4a9c4977f5e9ecaf7.png,http://localhost:8082/storage/uploads/sales/20250410/20250410/3527cf10d40060f95f9000c40e110f97.png, remark: , create_time: 2025-04-10 16:35:46, update_time: 2025-04-10 16:35:46', path=None, url=None, mimetype=None), image_resource=None, audio_resource=None, video_resource=None, text_template='{metadata_str}\\n\\n{content}')]\n"
     ]
    }
   ],
   "source": [
    "from llama_index.readers.database import DatabaseReader\n",
    "\n",
    "reader = DatabaseReader(\n",
    "    scheme=\"mysql\",\n",
    "    host=\"127.0.0.1\",\n",
    "    port=3306,\n",
    "    user=\"root\",\n",
    "    password=\"admin123\",\n",
    "    dbname=\"mobile_backend\"\n",
    ")\n",
    "\n",
    "query = \"SELECT * FROM sales\" # 选择所有游戏场景 -> Text-to-SQL\n",
    "documents = reader.load_data(query=query)\n",
    "\n",
    "print(f\"从数据库加载的文档数量: {len(documents)}\")\n",
    "print(documents)"
   ]
  }
 ],
 "metadata": {
  "kernelspec": {
   "display_name": "env_LlamaIndex",
   "language": "python",
   "name": "python3"
  },
  "language_info": {
   "codemirror_mode": {
    "name": "ipython",
    "version": 3
   },
   "file_extension": ".py",
   "mimetype": "text/x-python",
   "name": "python",
   "nbconvert_exporter": "python",
   "pygments_lexer": "ipython3",
   "version": "3.11.11"
  }
 },
 "nbformat": 4,
 "nbformat_minor": 2
}
