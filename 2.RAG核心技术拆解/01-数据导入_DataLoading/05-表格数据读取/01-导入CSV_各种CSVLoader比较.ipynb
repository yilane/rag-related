{
 "cells": [
  {
   "cell_type": "code",
   "execution_count": 1,
   "metadata": {},
   "outputs": [],
   "source": [
    "# 初始化 CSV文件路径\n",
    "file_path = \"../../90-文档_Data/黑神话/黑神话悟空.csv\""
   ]
  },
  {
   "cell_type": "markdown",
   "metadata": {},
   "source": [
    "#### 1. 基本加载 CSV 文件并打印记录"
   ]
  },
  {
   "cell_type": "code",
   "execution_count": 2,
   "metadata": {},
   "outputs": [
    {
     "name": "stdout",
     "output_type": "stream",
     "text": [
      "page_content='﻿Category: 装备\n",
      "Name: 铜云棒\n",
      "Description: 一根结实的青铜棒，挥舞时能发出破空之声，适合近战攻击。\n",
      "PowerLevel: 85' metadata={'source': '../../90-文档_Data/黑神话/黑神话悟空.csv', 'row': 0}\n",
      "page_content='﻿Category: 装备\n",
      "Name: 百戏衬钱衣\n",
      "Description: 一件精美的战斗铠甲，能够提供强大的防御并抵御剧毒伤害。\n",
      "PowerLevel: 90' metadata={'source': '../../90-文档_Data/黑神话/黑神话悟空.csv', 'row': 1}\n",
      "page_content='﻿Category: 技能\n",
      "Name: 天雷击\n",
      "Description: 召唤天雷攻击敌人，造成大范围雷电伤害。\n",
      "PowerLevel: 95' metadata={'source': '../../90-文档_Data/黑神话/黑神话悟空.csv', 'row': 2}\n",
      "page_content='﻿Category: 技能\n",
      "Name: 火焰舞\n",
      "Description: 施展火焰舞步，将敌人包围在炽热的火焰之中。\n",
      "PowerLevel: 92' metadata={'source': '../../90-文档_Data/黑神话/黑神话悟空.csv', 'row': 3}\n",
      "page_content='﻿Category: 人物\n",
      "Name: 悟空\n",
      "Description: 主角，拥有七十二变和腾云驾雾的能力，行侠仗义。\n",
      "PowerLevel: 100' metadata={'source': '../../90-文档_Data/黑神话/黑神话悟空.csv', 'row': 4}\n",
      "page_content='﻿Category: 人物\n",
      "Name: 银角大王\n",
      "Description: 强大的妖王之一，擅长操控各种法宝，具有极高的战斗力。\n",
      "PowerLevel: 88' metadata={'source': '../../90-文档_Data/黑神话/黑神话悟空.csv', 'row': 5}\n",
      "--------------------------------------------------------------------------------\n"
     ]
    }
   ],
   "source": [
    "from langchain_community.document_loaders import CSVLoader\n",
    "\n",
    "loader = CSVLoader(file_path=file_path)\n",
    "data = loader.load()\n",
    "for record in data:\n",
    "     print(record)\n",
    "print(\"-\" * 80)"
   ]
  },
  {
   "cell_type": "markdown",
   "metadata": {},
   "source": [
    "#### 2. 跳过 CSV 文件的标题行并使用自定义列名"
   ]
  },
  {
   "cell_type": "code",
   "execution_count": 3,
   "metadata": {},
   "outputs": [
    {
     "name": "stdout",
     "output_type": "stream",
     "text": [
      "page_content='种类: ﻿Category\n",
      "名称: Name\n",
      "说明: Description\n",
      "等级: PowerLevel' metadata={'source': '../../90-文档_Data/黑神话/黑神话悟空.csv', 'row': 0}\n",
      "page_content='种类: 装备\n",
      "名称: 铜云棒\n",
      "说明: 一根结实的青铜棒，挥舞时能发出破空之声，适合近战攻击。\n",
      "等级: 85' metadata={'source': '../../90-文档_Data/黑神话/黑神话悟空.csv', 'row': 1}\n",
      "page_content='种类: 装备\n",
      "名称: 百戏衬钱衣\n",
      "说明: 一件精美的战斗铠甲，能够提供强大的防御并抵御剧毒伤害。\n",
      "等级: 90' metadata={'source': '../../90-文档_Data/黑神话/黑神话悟空.csv', 'row': 2}\n",
      "page_content='种类: 技能\n",
      "名称: 天雷击\n",
      "说明: 召唤天雷攻击敌人，造成大范围雷电伤害。\n",
      "等级: 95' metadata={'source': '../../90-文档_Data/黑神话/黑神话悟空.csv', 'row': 3}\n",
      "page_content='种类: 技能\n",
      "名称: 火焰舞\n",
      "说明: 施展火焰舞步，将敌人包围在炽热的火焰之中。\n",
      "等级: 92' metadata={'source': '../../90-文档_Data/黑神话/黑神话悟空.csv', 'row': 4}\n",
      "page_content='种类: 人物\n",
      "名称: 悟空\n",
      "说明: 主角，拥有七十二变和腾云驾雾的能力，行侠仗义。\n",
      "等级: 100' metadata={'source': '../../90-文档_Data/黑神话/黑神话悟空.csv', 'row': 5}\n",
      "page_content='种类: 人物\n",
      "名称: 银角大王\n",
      "说明: 强大的妖王之一，擅长操控各种法宝，具有极高的战斗力。\n",
      "等级: 88' metadata={'source': '../../90-文档_Data/黑神话/黑神话悟空.csv', 'row': 6}\n",
      "--------------------------------------------------------------------------------\n"
     ]
    }
   ],
   "source": [
    "loader = CSVLoader(\n",
    "    file_path=file_path,\n",
    "    csv_args={\n",
    "        \"delimiter\": \",\",\n",
    "        \"quotechar\": '\"',\n",
    "        \"fieldnames\": [\"种类\", \"名称\", \"说明\", \"等级\"],\n",
    "    },\n",
    ")\n",
    "data = loader.load()\n",
    "for record in data:\n",
    "    print(record)\n",
    "print(\"-\" * 80)"
   ]
  },
  {
   "cell_type": "markdown",
   "metadata": {},
   "source": [
    "#### 3. 指定 \"Name\" 列作为 source_column"
   ]
  },
  {
   "cell_type": "code",
   "execution_count": 4,
   "metadata": {},
   "outputs": [
    {
     "name": "stdout",
     "output_type": "stream",
     "text": [
      "page_content='﻿Category: 装备\n",
      "Name: 铜云棒\n",
      "Description: 一根结实的青铜棒，挥舞时能发出破空之声，适合近战攻击。\n",
      "PowerLevel: 85' metadata={'source': '铜云棒', 'row': 0}\n",
      "page_content='﻿Category: 装备\n",
      "Name: 百戏衬钱衣\n",
      "Description: 一件精美的战斗铠甲，能够提供强大的防御并抵御剧毒伤害。\n",
      "PowerLevel: 90' metadata={'source': '百戏衬钱衣', 'row': 1}\n",
      "page_content='﻿Category: 技能\n",
      "Name: 天雷击\n",
      "Description: 召唤天雷攻击敌人，造成大范围雷电伤害。\n",
      "PowerLevel: 95' metadata={'source': '天雷击', 'row': 2}\n",
      "page_content='﻿Category: 技能\n",
      "Name: 火焰舞\n",
      "Description: 施展火焰舞步，将敌人包围在炽热的火焰之中。\n",
      "PowerLevel: 92' metadata={'source': '火焰舞', 'row': 3}\n",
      "page_content='﻿Category: 人物\n",
      "Name: 悟空\n",
      "Description: 主角，拥有七十二变和腾云驾雾的能力，行侠仗义。\n",
      "PowerLevel: 100' metadata={'source': '悟空', 'row': 4}\n",
      "page_content='﻿Category: 人物\n",
      "Name: 银角大王\n",
      "Description: 强大的妖王之一，擅长操控各种法宝，具有极高的战斗力。\n",
      "PowerLevel: 88' metadata={'source': '银角大王', 'row': 5}\n",
      "--------------------------------------------------------------------------------\n"
     ]
    }
   ],
   "source": [
    "loader = CSVLoader(file_path=file_path, source_column=\"Name\")\n",
    "data = loader.load()\n",
    "for record in data:\n",
    "    print(record)\n",
    "print(\"-\" * 80)"
   ]
  },
  {
   "cell_type": "markdown",
   "metadata": {},
   "source": [
    "#### 4. 使用 UnstructuredCSVLoader 加载 CSV 文件"
   ]
  },
  {
   "cell_type": "code",
   "execution_count": 5,
   "metadata": {},
   "outputs": [
    {
     "name": "stdout",
     "output_type": "stream",
     "text": [
      "{'id': None,\n",
      " 'metadata': {'source': '../../90-文档_Data/黑神话/黑神话悟空.csv'},\n",
      " 'page_content': 'Category Name Description PowerLevel 装备 铜云棒 '\n",
      "                 '一根结实的青铜棒，挥舞时能发出破空之声，适合近战攻击。 85 装备 百戏衬钱衣 '\n",
      "                 '一件精美的战斗铠甲，能够提供强大的防御并抵御剧毒伤害。 90 技能 天雷击 召唤天雷攻击敌人，造成大范围雷电伤害。 95 '\n",
      "                 '技能 火焰舞 施展火焰舞步，将敌人包围在炽热的火焰之中。 92 人物 悟空 '\n",
      "                 '主角，拥有七十二变和腾云驾雾的能力，行侠仗义。 100 人物 银角大王 '\n",
      "                 '强大的妖王之一，擅长操控各种法宝，具有极高的战斗力。 88',\n",
      " 'type': 'Document'}\n"
     ]
    }
   ],
   "source": [
    "from langchain_community.document_loaders import UnstructuredCSVLoader\n",
    "import pprint\n",
    "\n",
    "loader = UnstructuredCSVLoader(file_path=file_path)\n",
    "data = loader.load()\n",
    "\n",
    "for doc in data:\n",
    "    pprint.pprint(doc.model_dump())"
   ]
  },
  {
   "cell_type": "markdown",
   "metadata": {},
   "source": [
    "#### 5. 导入目录时指定 CSVLoader"
   ]
  },
  {
   "cell_type": "code",
   "execution_count": 6,
   "metadata": {},
   "outputs": [
    {
     "name": "stdout",
     "output_type": "stream",
     "text": [
      "文档数：6\n",
      "{'id': None,\n",
      " 'metadata': {'row': 0, 'source': '../../90-文档_Data/黑神话/黑神话悟空.csv'},\n",
      " 'page_content': '\\ufeffCategory: 装备\\n'\n",
      "                 'Name: 铜云棒\\n'\n",
      "                 'Description: 一根结实的青铜棒，挥舞时能发出破空之声，适合近战攻击。\\n'\n",
      "                 'PowerLevel: 85',\n",
      " 'type': 'Document'}\n",
      "{'id': None,\n",
      " 'metadata': {'row': 1, 'source': '../../90-文档_Data/黑神话/黑神话悟空.csv'},\n",
      " 'page_content': '\\ufeffCategory: 装备\\n'\n",
      "                 'Name: 百戏衬钱衣\\n'\n",
      "                 'Description: 一件精美的战斗铠甲，能够提供强大的防御并抵御剧毒伤害。\\n'\n",
      "                 'PowerLevel: 90',\n",
      " 'type': 'Document'}\n",
      "{'id': None,\n",
      " 'metadata': {'row': 2, 'source': '../../90-文档_Data/黑神话/黑神话悟空.csv'},\n",
      " 'page_content': '\\ufeffCategory: 技能\\n'\n",
      "                 'Name: 天雷击\\n'\n",
      "                 'Description: 召唤天雷攻击敌人，造成大范围雷电伤害。\\n'\n",
      "                 'PowerLevel: 95',\n",
      " 'type': 'Document'}\n",
      "{'id': None,\n",
      " 'metadata': {'row': 3, 'source': '../../90-文档_Data/黑神话/黑神话悟空.csv'},\n",
      " 'page_content': '\\ufeffCategory: 技能\\n'\n",
      "                 'Name: 火焰舞\\n'\n",
      "                 'Description: 施展火焰舞步，将敌人包围在炽热的火焰之中。\\n'\n",
      "                 'PowerLevel: 92',\n",
      " 'type': 'Document'}\n",
      "{'id': None,\n",
      " 'metadata': {'row': 4, 'source': '../../90-文档_Data/黑神话/黑神话悟空.csv'},\n",
      " 'page_content': '\\ufeffCategory: 人物\\n'\n",
      "                 'Name: 悟空\\n'\n",
      "                 'Description: 主角，拥有七十二变和腾云驾雾的能力，行侠仗义。\\n'\n",
      "                 'PowerLevel: 100',\n",
      " 'type': 'Document'}\n",
      "{'id': None,\n",
      " 'metadata': {'row': 5, 'source': '../../90-文档_Data/黑神话/黑神话悟空.csv'},\n",
      " 'page_content': '\\ufeffCategory: 人物\\n'\n",
      "                 'Name: 银角大王\\n'\n",
      "                 'Description: 强大的妖王之一，擅长操控各种法宝，具有极高的战斗力。\\n'\n",
      "                 'PowerLevel: 88',\n",
      " 'type': 'Document'}\n"
     ]
    }
   ],
   "source": [
    "from langchain_community.document_loaders import DirectoryLoader\n",
    "from langchain_community.document_loaders import CSVLoader\n",
    "import pprint\n",
    "\n",
    "loader = DirectoryLoader(\n",
    "    path=\"../../90-文档_Data/黑神话\",  # Specify the directory containing your CSV files\n",
    "    glob=\"**/*.csv\",  # Use a glob pattern to match CSV files\n",
    "    loader_cls=CSVLoader,  # Specify CSVLoader as the loader class\n",
    ")\n",
    "\n",
    "docs = loader.load()\n",
    "print(f\"文档数：{len(docs)}\")  # 输出文档总数\n",
    "\n",
    "for doc in docs:\n",
    "    pprint.pprint(doc.model_dump())"
   ]
  }
 ],
 "metadata": {
  "kernelspec": {
   "display_name": "env_LangChain",
   "language": "python",
   "name": "python3"
  },
  "language_info": {
   "codemirror_mode": {
    "name": "ipython",
    "version": 3
   },
   "file_extension": ".py",
   "mimetype": "text/x-python",
   "name": "python",
   "nbconvert_exporter": "python",
   "pygments_lexer": "ipython3",
   "version": "3.11.11"
  }
 },
 "nbformat": 4,
 "nbformat_minor": 2
}
