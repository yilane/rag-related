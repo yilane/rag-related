{
 "cells": [
  {
   "cell_type": "markdown",
   "metadata": {},
   "source": [
    "加载环境变量"
   ]
  },
  {
   "cell_type": "code",
   "execution_count": 1,
   "metadata": {},
   "outputs": [],
   "source": [
    "from dotenv import load_dotenv\n",
    "import os\n",
    "load_dotenv()\n",
    "# 设置用户代理\n",
    "os.environ[\"USER_AGENT\"] = \"Mozilla/5.0 (Windows NT 10.0; Win64; x64) AppleWebKit/537.36 (KHTML, like Gecko) Chrome/91.0.4472.124 Safari/537.36\""
   ]
  },
  {
   "cell_type": "markdown",
   "metadata": {},
   "source": [
    "1. 加载文档"
   ]
  },
  {
   "cell_type": "code",
   "execution_count": 2,
   "metadata": {},
   "outputs": [],
   "source": [
    "from langchain_community.document_loaders import WebBaseLoader # pip install langchain-community\n",
    "\n",
    "loader = WebBaseLoader(\n",
    "    web_paths=(\"https://zh.wikipedia.org/wiki/黑神话：悟空\",)\n",
    ")\n",
    "docs = loader.load()"
   ]
  },
  {
   "cell_type": "markdown",
   "metadata": {},
   "source": [
    "2. 文档分块"
   ]
  },
  {
   "cell_type": "code",
   "execution_count": 3,
   "metadata": {},
   "outputs": [],
   "source": [
    "from langchain_text_splitters import RecursiveCharacterTextSplitter\n",
    "text_splitter = RecursiveCharacterTextSplitter(chunk_size=1000, chunk_overlap=200)\n",
    "all_splits = text_splitter.split_documents(docs)"
   ]
  },
  {
   "cell_type": "markdown",
   "metadata": {},
   "source": [
    "3. 设置嵌入模型"
   ]
  },
  {
   "cell_type": "code",
   "execution_count": 4,
   "metadata": {},
   "outputs": [],
   "source": [
    "from langchain_huggingface import HuggingFaceEmbeddings\n",
    "\n",
    "embeddings = HuggingFaceEmbeddings(\n",
    "    model_name=\"BAAI/bge-small-zh-v1.5\",\n",
    "    model_kwargs={'device': 'cpu'},\n",
    "    encode_kwargs={'normalize_embeddings': True}\n",
    ")"
   ]
  },
  {
   "cell_type": "markdown",
   "metadata": {},
   "source": [
    " 4. 创建向量存储"
   ]
  },
  {
   "cell_type": "code",
   "execution_count": 5,
   "metadata": {},
   "outputs": [
    {
     "data": {
      "text/plain": [
       "['114ebb87-fff1-41d6-8239-8de09811be40',\n",
       " '75150a08-6a1b-483d-af0b-3d1b5ba39c84',\n",
       " '51d05eb2-919c-41d4-88d1-6acc40c5f17a',\n",
       " 'a3c2f0de-9928-4c1d-aea4-9a0c701c73e2',\n",
       " '363098a0-a9dc-4a68-a8a0-fedc1a558b89',\n",
       " '26512769-3b8e-4645-bfa8-0865e3077946',\n",
       " '9a461f86-ae2a-44c4-a744-abe717964488',\n",
       " 'fc72af50-e5dd-4bed-8d8f-fb217a975fa9',\n",
       " 'e724d376-bde2-4c1f-8001-e003dd3216d2',\n",
       " '8fde3e5f-6400-4aea-89f7-42cf154badcf',\n",
       " 'c486669e-b267-447a-8ebc-ce4198c8c463',\n",
       " 'babe671d-8e38-4288-a3c5-2bded6bfe4e9',\n",
       " '8585e721-9318-4905-a4dd-2c387213bb2a',\n",
       " '35114dd4-1b3b-40dd-84c0-29e12ebac69d',\n",
       " 'a574a31e-4587-4c9c-a100-9654ee23370c',\n",
       " '1d617cb3-9310-429b-b00f-b27bd6444420',\n",
       " '4dfdaec6-547a-470c-9c22-e330637063e0',\n",
       " '5b0d3a94-53e1-498c-a2e6-43e351bc6165',\n",
       " '180234e9-9a8a-4a97-833c-deb5c8775088',\n",
       " 'e0a4118d-0614-48db-881a-2b4defeff83f',\n",
       " 'f9818f69-3bf1-4074-8fee-1046c6f05757',\n",
       " 'a0019ae7-2a7a-462d-b052-8950e393eca3',\n",
       " 'b6858a25-25d0-4ec4-ab96-5dead8d4ab58',\n",
       " '93c16c81-0263-44f7-a8c0-1691304d1634',\n",
       " '34a68713-e821-4c99-8714-438c7e26ac13',\n",
       " '7acefd4d-3234-4763-88c1-6f976ca0b5a0',\n",
       " '58bd3d80-c1fa-4134-b263-03971386d002',\n",
       " 'cb737ad0-33c1-4e6b-8587-ed3c47a8c2dc',\n",
       " '9d07f1ca-753d-42fa-8c8a-877f3f684bb1',\n",
       " '97badec7-8ab2-416b-b271-e81e16c45dc6',\n",
       " '4dae1130-453e-4584-bad3-aa42ed78b0b9',\n",
       " '1cfc9822-60aa-4666-9c56-1669f9369752',\n",
       " 'd7ab6233-361f-46ff-ba66-0248d5801f90',\n",
       " 'c2a84030-1225-4b17-8412-fb9f5f0076ec',\n",
       " '2e08738c-8804-42e6-ab46-1487bb8db473',\n",
       " 'e5c08b09-3a69-40e6-82c2-9c6a1696633d']"
      ]
     },
     "execution_count": 5,
     "metadata": {},
     "output_type": "execute_result"
    }
   ],
   "source": [
    "from langchain_core.vectorstores import InMemoryVectorStore\n",
    "vector_store = InMemoryVectorStore(embeddings)\n",
    "vector_store.add_documents(all_splits)"
   ]
  },
  {
   "cell_type": "markdown",
   "metadata": {},
   "source": [
    "5. 构建用户查询"
   ]
  },
  {
   "cell_type": "code",
   "execution_count": 6,
   "metadata": {},
   "outputs": [],
   "source": [
    "question = \"黑悟空有哪些游戏场景？\""
   ]
  },
  {
   "cell_type": "markdown",
   "metadata": {},
   "source": [
    "6. 在向量存储中搜索相关文档，并准备上下文内容"
   ]
  },
  {
   "cell_type": "code",
   "execution_count": 7,
   "metadata": {},
   "outputs": [],
   "source": [
    "retrieved_docs = vector_store.similarity_search(question, k=3)\n",
    "docs_content = \"\\n\\n\".join(doc.page_content for doc in retrieved_docs)"
   ]
  },
  {
   "cell_type": "markdown",
   "metadata": {},
   "source": [
    "7. 构建提示模板"
   ]
  },
  {
   "cell_type": "code",
   "execution_count": 8,
   "metadata": {},
   "outputs": [],
   "source": [
    "from langchain_core.prompts import ChatPromptTemplate\n",
    "prompt = ChatPromptTemplate.from_template(\"\"\"\n",
    "                基于以下上下文，回答问题。如果上下文中没有相关信息，\n",
    "                请说\"我无法从提供的上下文中找到相关信息\"。\n",
    "                上下文: {context}\n",
    "                问题: {question}\n",
    "                回答:\"\"\")"
   ]
  },
  {
   "cell_type": "markdown",
   "metadata": {},
   "source": [
    "8. 使用ollama本地大语言模型生成答案"
   ]
  },
  {
   "cell_type": "code",
   "execution_count": 9,
   "metadata": {},
   "outputs": [],
   "source": [
    "from langchain_ollama import ChatOllama # pip install langchain-ollama\n",
    "llm = ChatOllama(\n",
    "    model=\"qwen2.5:3b\",  # 可以根据需要更换其他模型，如 llama2, mistral 等\n",
    "    request_timeout=300.0  # 增加超时时间\n",
    ")"
   ]
  },
  {
   "cell_type": "markdown",
   "metadata": {},
   "source": [
    "9. 生成答案"
   ]
  },
  {
   "cell_type": "code",
   "execution_count": 10,
   "metadata": {},
   "outputs": [
    {
     "name": "stdout",
     "output_type": "stream",
     "text": [
      "问题: 黑悟空有哪些游戏场景？\n",
      "--------------------------------------------------\n",
      "回答: 《黑神话：悟空》中的游戏场景包括多个中国古建地标，如大足石刻、小西天、南禅寺、铁佛寺、广胜寺和鹳雀楼等。这些地点在游戏中真实呈现，并为玩家提供了丰富的探索环境。此外，游戏还通过二维和三维动画过场，展现了叙事和主题元素，增强了沉浸感。\n"
     ]
    }
   ],
   "source": [
    "print(f\"问题: {question}\")\n",
    "print(\"-\"*50)\n",
    "answer = llm.invoke(prompt.format(question=question, context=docs_content))\n",
    "print(f\"回答: {answer.content}\")"
   ]
  }
 ],
 "metadata": {
  "kernelspec": {
   "display_name": "env_LangChain",
   "language": "python",
   "name": "python3"
  },
  "language_info": {
   "codemirror_mode": {
    "name": "ipython",
    "version": 3
   },
   "file_extension": ".py",
   "mimetype": "text/x-python",
   "name": "python",
   "nbconvert_exporter": "python",
   "pygments_lexer": "ipython3",
   "version": "3.11.11"
  }
 },
 "nbformat": 4,
 "nbformat_minor": 2
}
