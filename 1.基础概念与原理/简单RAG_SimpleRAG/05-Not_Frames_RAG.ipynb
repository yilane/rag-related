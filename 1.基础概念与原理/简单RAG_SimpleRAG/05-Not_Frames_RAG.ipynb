{
 "cells": [
  {
   "cell_type": "markdown",
   "metadata": {},
   "source": [
    "### 不使用框架，手工构建RAG，基于DeepSeek和Ollama生成模型"
   ]
  },
  {
   "cell_type": "markdown",
   "metadata": {},
   "source": [
    "加载环境变量"
   ]
  },
  {
   "cell_type": "code",
   "execution_count": 12,
   "metadata": {},
   "outputs": [],
   "source": [
    "from dotenv import load_dotenv\n",
    "import os\n",
    "\n",
    "load_dotenv()\n",
    "# 配置 DeepSeek API 密钥\n",
    "DEEPSEEK_API_KEY = os.getenv(\"DEEPSEEK_API_KEY\")\n",
    "if not DEEPSEEK_API_KEY:\n",
    "    raise ValueError(\"请设置 DEEPSEEK_API_KEY 环境变量\")"
   ]
  },
  {
   "cell_type": "markdown",
   "metadata": {},
   "source": [
    "1. 加载与读取文档"
   ]
  },
  {
   "cell_type": "code",
   "execution_count": 13,
   "metadata": {},
   "outputs": [],
   "source": [
    "text = '';\n",
    "with open('data/黑神话wiki.txt', 'rb') as f:\n",
    "    text = f.read().decode('utf-8')"
   ]
  },
  {
   "cell_type": "markdown",
   "metadata": {},
   "source": [
    "2. 分割文档\n",
    "- 为了更精确地实现基于向量的语义检索，我们不能简单地嵌入文档的内容，而是需要分割：将文档分割成最合适的大小的多个知识块（Chunk）后做向量化"
   ]
  },
  {
   "cell_type": "code",
   "execution_count": 14,
   "metadata": {},
   "outputs": [],
   "source": [
    "import re\n",
    "\n",
    "def split_text_by_sentences(source_text: str, sentences_per_chunk: int = 3, overlap: int = 1) ->list[str]:\n",
    "    \"\"\"\n",
    "    简单地把文档分割成多个知识块，每个知识块都包含指定数量的句子\n",
    "\n",
    "    参数:\n",
    "    source_text (str): 要分割的文本\n",
    "    sentences_per_chunk (int): 每个知识块包含的句子数量，默认为3\n",
    "    overlap (int): 相邻知识块之间的句子重叠数量，默认为1\n",
    "    \n",
    "    返回:\n",
    "        list[str]: 分割后的知识块列表\n",
    "    \"\"\"\n",
    "    # 参数检查\n",
    "    if not isinstance(source_text, str):\n",
    "        raise ValueError(\"输入必须是字符串类型\")\n",
    "    if not source_text.strip():\n",
    "        raise ValueError(\"输入文本不能为空\")\n",
    "    if sentences_per_chunk < 1:\n",
    "        raise ValueError(\"每个知识块至少包含1个句子\")\n",
    "    if overlap < 0 or overlap >= sentences_per_chunk:\n",
    "        raise ValueError(\"重叠句子数必须大于等于0且小于每个知识块的句子数\")\n",
    "    \n",
    "    # print(f\"文本长度: {len(source_text)}\")\n",
    "    # print(f\"文本内容前100个字符: {source_text[:100]}\")\n",
    "    \n",
    "    # 简单化处理， 用正则表达式来分割句子\n",
    "    sentences = re.split(r'(?<=[。！？.!?])\\s*', source_text)\n",
    "    # print(f\"分割后的句子数量: {len(sentences)}\")\n",
    "    sentences = [s.strip() for s in sentences if s.strip()]\n",
    "\n",
    "    # 如果句子数量不足，直接返回整个文本\n",
    "    if len(sentences) <= sentences_per_chunk:\n",
    "        return [source_text]\n",
    "    \n",
    "    chunks = []\n",
    "    step = sentences_per_chunk - overlap\n",
    "    \n",
    "    # 生成知识块\n",
    "    for i in range(0, len(sentences), step):\n",
    "        chunk = sentences[i:i + sentences_per_chunk]\n",
    "        if len(chunk) < sentences_per_chunk and i > 0:\n",
    "            # 如果最后一个知识块句子不足，且不是第一个知识块，则跳过\n",
    "            continue\n",
    "        chunks.append(' '.join(chunk))\n",
    "    \n",
    "    return chunks"
   ]
  },
  {
   "cell_type": "markdown",
   "metadata": {},
   "source": [
    "3. 设置嵌入模型"
   ]
  },
  {
   "cell_type": "code",
   "execution_count": 15,
   "metadata": {},
   "outputs": [
    {
     "name": "stdout",
     "output_type": "stream",
     "text": [
      "文档向量维度: (21, 384)\n"
     ]
    }
   ],
   "source": [
    "from sentence_transformers import SentenceTransformer\n",
    "\n",
    "# 使用支持多语言的模型\n",
    "embedding_model = SentenceTransformer('paraphrase-multilingual-MiniLM-L12-v2')\n",
    "chunks = split_text_by_sentences(source_text=text, sentences_per_chunk=8, overlap=2)\n",
    "embeddings = embedding_model.encode(chunks)\n",
    "print(f\"文档向量维度: {embeddings.shape}\")"
   ]
  },
  {
   "cell_type": "markdown",
   "metadata": {},
   "source": [
    "4. 创建向量存储"
   ]
  },
  {
   "cell_type": "code",
   "execution_count": 16,
   "metadata": {},
   "outputs": [
    {
     "name": "stdout",
     "output_type": "stream",
     "text": [
      "成功存储了 21 个文档块到向量数据库\n"
     ]
    }
   ],
   "source": [
    "# 创建向量存储\n",
    "import chromadb\n",
    "from chromadb.config import Settings\n",
    "\n",
    "# 初始化 Chroma 客户端，设置持久化存储\n",
    "client = chromadb.PersistentClient(path=\"./chroma_db\")\n",
    "\n",
    "# 创建或获取集合\n",
    "collection = client.get_or_create_collection(\n",
    "    name=\"black_myth_wiki\",  # 集合名称\n",
    "    metadata={\"hnsw:space\": \"cosine\"}  # 使用余弦相似度\n",
    ")\n",
    "\n",
    "# 准备数据\n",
    "ids = [f\"doc_{i}\" for i in range(len(chunks))]\n",
    "metadatas = [{\"source\": \"黑神话wiki\"} for _ in range(len(chunks))]\n",
    "\n",
    "# 将数据添加到集合中\n",
    "collection.add(\n",
    "    embeddings=embeddings.tolist(),\n",
    "    documents=chunks,\n",
    "    ids=ids,\n",
    "    metadatas=metadatas\n",
    ")\n",
    "\n",
    "print(f\"成功存储了 {len(chunks)} 个文档块到向量数据库\")"
   ]
  },
  {
   "cell_type": "markdown",
   "metadata": {},
   "source": [
    "4. 执行相似度检索"
   ]
  },
  {
   "cell_type": "code",
   "execution_count": 17,
   "metadata": {},
   "outputs": [
    {
     "name": "stdout",
     "output_type": "stream",
     "text": [
      "\n",
      "检索到的最相关文档片段：\n",
      "\n",
      "片段 1 (相似度得分: 0.1646):\n",
      "[50][51]据电子游戏分析师丹尼尔·艾哈迈德（Daniel Ahmad）称，公布此段实机演示的主要目的是开发团队缺人，想通过这段视频吸引人才. [52]最初，开发团队只有7个人，但在游戏预告时，团队人数已增至约30人. [53]\n",
      "\n",
      "2021年2月8日，开发团队释出了另一支3分钟的演示预告，以庆祝即将到来的农历牛年. 2021年8月20日开发团队再次释出一支12分钟的演示预告，由Epic Games研发的虚幻引擎5实机录制. [54]2022年8月20日，开发团队发布一支6分20秒剧情短片，[55]同时由GeForce再次发布一支8分22秒实机演示. [56]\n",
      "\n",
      "制作人冯骥表示，《黑神话：悟空》是“黑神话系列”的第一部作品，内部的开发代号是“B1”，全称是“Black Myth One”. 根据他的构想，黑神话系列将是一个讲述中国东方神话体系里，不同传奇英雄的魔幻历险故事系列. 在规划这个系列的第一部作品之后，他对后两部黑神话游戏的名称和方向有一些想法，但尚未公开其内容.\n",
      "\n",
      "片段 2 (相似度得分: 0.1490):\n",
      "[47]\n",
      "\n",
      "最后，天命人与代表孙悟空“执念”的大圣残躯战斗. 大圣残躯被击败后逐渐消散，紧箍儿掉入水中. 在决战之前如果天命人没有从二郎神那里获得孙悟空的第六件根器，孙悟空将不会复活，老猴子会将紧箍儿戴在天命人头上，天命人沦为天庭执行意志的新工具；但如果在决战之前天命人已经获得孙悟空的第六件根器，则六根齐聚，孙悟空成功复活，天命人成为孙悟空，老猴子虽然拿起了紧箍儿，但却没有给孙悟空戴上，孙悟空因此避免了天庭的束缚. [47][48]\n",
      "\n",
      "游戏开发\n",
      "《黑神话：悟空》由游戏科学于2017年开始开发，于2020年8月20日公布首段实机演示视频. [49]游戏预告片展示基于虚幻引擎4开发的游戏内容，主角在黑风山探索环境，并与各种敌人战斗. 发布一天内，预告片在YouTube上获得近200万次观看，在bilibili上则达到1000万次观看. [50][51]据电子游戏分析师丹尼尔·艾哈迈德（Daniel Ahmad）称，公布此段实机演示的主要目的是开发团队缺人，想通过这段视频吸引人才. [52]最初，开发团队只有7个人，但在游戏预告时，团队人数已增至约30人.\n",
      "\n",
      "片段 3 (相似度得分: 0.1352):\n",
      "[125]索尼透露，《黑神话：悟空》是2024年8月北美（美国和加拿大）、欧洲以及日本下载量最高的PlayStation 5游戏. [126][127]\n",
      "\n",
      "据数据分析公司VG Insights的数据显示，游戏上线后两周内，总销量已超过1800万份，总销售额约达人民币61. 65亿元 . [128][129]实体豪华版和实体收藏版都供不应求，以京东为例，有70万人登记购买3万套的实体版本. [130]\n",
      "\n",
      "争议\n",
      "部分玩家称，在WeGame上发行的《黑神话：悟空》经过了审查，修改了一些角色模型和有争议的文字内容，例如将所有的“酒”字改成“甘露”等. [131]这种修改或许是为了回应家长对孩子沉迷游戏以及其他潜在风险的担忧. [132]但也有人认为，要理性看待游戏内容，应建立科学、合理、完善的游戏分级制度，而不是修改内容. [133]\n"
     ]
    }
   ],
   "source": [
    "question = \"黑神话悟空的游戏有什么特点?\"\n",
    "\n",
    "# 将问题转换为向量\n",
    "question_embedding = embedding_model.encode(question)\n",
    "# 在向量数据库中搜索最相似的文档\n",
    "results = collection.query(\n",
    "    query_embeddings=[question_embedding.tolist()],\n",
    "    n_results=3  # 返回最相似的3个文档\n",
    ")\n",
    "# 打印检索结果\n",
    "print(\"\\n检索到的最相关文档片段：\")\n",
    "for i, (doc, score) in enumerate(zip(results['documents'][0], results['distances'][0])):\n",
    "    print(f\"\\n片段 {i+1} (相似度得分: {1-score:.4f}):\")\n",
    "    print(doc)"
   ]
  },
  {
   "cell_type": "markdown",
   "metadata": {},
   "source": [
    "5. 构建提示词"
   ]
  },
  {
   "cell_type": "code",
   "execution_count": 18,
   "metadata": {},
   "outputs": [],
   "source": [
    "prompt = f\"\"\"\n",
    "    请基于以下的上下文回答问题，如果上下文中不包含足够的回答问题的信息，请回答'我暂时无法回答该问题题'，不要编造。\n",
    "    上下文：\n",
    "    {doc}\n",
    "    我的问题是：{question}\n",
    "\"\"\""
   ]
  },
  {
   "cell_type": "markdown",
   "metadata": {},
   "source": [
    "6. 使用DeepSeek生成答案"
   ]
  },
  {
   "cell_type": "code",
   "execution_count": 19,
   "metadata": {},
   "outputs": [
    {
     "name": "stdout",
     "output_type": "stream",
     "text": [
      "\n",
      "生成的答案: 根据上下文，《黑神话：悟空》的特点包括：  \n",
      "1. **高销量与热度**：上线两周内全球销量超1800万份，销售额约61.65亿元，成为2024年8月北美、欧洲及日本PS5下载量最高的游戏。  \n",
      "2. **实体版供不应求**：豪华版与收藏版需求远超供应，例如京东70万人抢购3万套实体版本。  \n",
      "3. **内容争议**：部分平台（如WeGame）存在审查修改，例如将“酒”改为“甘露”，引发对游戏分级制度的讨论。  \n",
      "\n",
      "上下文未提及其他具体玩法或设计特点（如战斗系统、画面等），故无法进一步回答。\n"
     ]
    }
   ],
   "source": [
    "from openai import OpenAI\n",
    "client = OpenAI(\n",
    "    api_key=DEEPSEEK_API_KEY,\n",
    "    base_url=\"https://api.deepseek.com/v1\"\n",
    ")\n",
    "\n",
    "response = client.chat.completions.create(\n",
    "    model=\"deepseek-chat\",  \n",
    "    messages=[{\n",
    "        \"role\": \"user\",\n",
    "        \"content\": prompt\n",
    "    }],\n",
    "    max_tokens=1024\n",
    ")\n",
    "print(f\"\\n生成的答案: {response.choices[0].message.content}\")"
   ]
  },
  {
   "cell_type": "markdown",
   "metadata": {},
   "source": [
    "7. 使用Ollama本地大模型生成答案"
   ]
  },
  {
   "cell_type": "code",
   "execution_count": 20,
   "metadata": {},
   "outputs": [
    {
     "name": "stdout",
     "output_type": "stream",
     "text": [
      "\n",
      "生成的答案: 《黑神话：悟空》这款游戏的特点包括：\n",
      "- 它在2024年8月成为了PlayStation 5上北美（美国和加拿大）、欧洲以及日本下载量最高的游戏；\n",
      "- 发行后两周内，总销量已超过1800万份，总销售额约达人民币61. 65亿元；\n",
      "- 实体豪华版和实体收藏版都供不应求；\n",
      "- 在WeGame平台发行时经过了审查，对部分内容进行了修改。这种修改可能为了回应家长对孩子沉迷游戏以及其他潜在风险的担忧。\n",
      "\n",
      "然而，关于游戏内容本身的具体特点，并未在提供的信息中提及。\n"
     ]
    }
   ],
   "source": [
    "from ollama import chat\n",
    "\n",
    "response = chat(\n",
    "    model='qwen2.5:3b',  \n",
    "    messages=[{\n",
    "        \"role\": \"user\",\n",
    "        \"content\": prompt\n",
    "    }],\n",
    ")\n",
    "print(f\"\\n生成的答案: {response.message.content}\")"
   ]
  }
 ],
 "metadata": {
  "kernelspec": {
   "display_name": "env_NotFramesRAG",
   "language": "python",
   "name": "python3"
  },
  "language_info": {
   "codemirror_mode": {
    "name": "ipython",
    "version": 3
   },
   "file_extension": ".py",
   "mimetype": "text/x-python",
   "name": "python",
   "nbconvert_exporter": "python",
   "pygments_lexer": "ipython3",
   "version": "3.11.11"
  }
 },
 "nbformat": 4,
 "nbformat_minor": 2
}
