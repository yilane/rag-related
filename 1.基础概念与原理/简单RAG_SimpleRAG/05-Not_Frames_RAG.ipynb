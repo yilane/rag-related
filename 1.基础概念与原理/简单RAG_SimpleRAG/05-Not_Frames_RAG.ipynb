{
 "cells": [
  {
   "cell_type": "markdown",
   "metadata": {},
   "source": [
    "### 不使用框架，手工构建RAG，基于DeepSeek和Ollama生成模型"
   ]
  },
  {
   "cell_type": "markdown",
   "metadata": {},
   "source": [
    "加载环境变量"
   ]
  },
  {
   "cell_type": "code",
   "execution_count": 2,
   "metadata": {},
   "outputs": [],
   "source": [
    "from dotenv import load_dotenv\n",
    "import os\n",
    "\n",
    "load_dotenv()\n",
    "# 配置 DeepSeek API 密钥\n",
    "DEEPSEEK_API_KEY = os.getenv(\"DEEPSEEK_API_KEY\")\n",
    "if not DEEPSEEK_API_KEY:\n",
    "    raise ValueError(\"请设置 DEEPSEEK_API_KEY 环境变量\")"
   ]
  },
  {
   "cell_type": "markdown",
   "metadata": {},
   "source": [
    "1. 加载与读取文档"
   ]
  },
  {
   "cell_type": "code",
   "execution_count": 3,
   "metadata": {},
   "outputs": [],
   "source": [
    "text = '';\n",
    "with open('data/黑神话wiki.txt', 'rb') as f:\n",
    "    text = f.read().decode('utf-8')"
   ]
  },
  {
   "cell_type": "markdown",
   "metadata": {},
   "source": [
    "2. 分割文档\n",
    "- 为了更精确地实现基于向量的语义检索，我们不能简单地嵌入文档的内容，而是需要分割：将文档分割成最合适的大小的多个知识块（Chunk）后做向量化"
   ]
  },
  {
   "cell_type": "code",
   "execution_count": 4,
   "metadata": {},
   "outputs": [],
   "source": [
    "import re\n",
    "\n",
    "def split_text_by_sentences(source_text: str, sentences_per_chunk: int = 3, overlap: int = 1) ->list[str]:\n",
    "    \"\"\"\n",
    "    简单地把文档分割成多个知识块，每个知识块都包含指定数量的句子\n",
    "\n",
    "    参数:\n",
    "    source_text (str): 要分割的文本\n",
    "    sentences_per_chunk (int): 每个知识块包含的句子数量，默认为3\n",
    "    overlap (int): 相邻知识块之间的句子重叠数量，默认为1\n",
    "    \n",
    "    返回:\n",
    "        list[str]: 分割后的知识块列表\n",
    "    \"\"\"\n",
    "    # 参数检查\n",
    "    if not isinstance(source_text, str):\n",
    "        raise ValueError(\"输入必须是字符串类型\")\n",
    "    if not source_text.strip():\n",
    "        raise ValueError(\"输入文本不能为空\")\n",
    "    if sentences_per_chunk < 1:\n",
    "        raise ValueError(\"每个知识块至少包含1个句子\")\n",
    "    if overlap < 0 or overlap >= sentences_per_chunk:\n",
    "        raise ValueError(\"重叠句子数必须大于等于0且小于每个知识块的句子数\")\n",
    "    \n",
    "    # print(f\"文本长度: {len(source_text)}\")\n",
    "    # print(f\"文本内容前100个字符: {source_text[:100]}\")\n",
    "    \n",
    "    # 简单化处理， 用正则表达式来分割句子\n",
    "    sentences = re.split(r'(?<=[。！？.!?])\\s*', source_text)\n",
    "    # print(f\"分割后的句子数量: {len(sentences)}\")\n",
    "    sentences = [s.strip() for s in sentences if s.strip()]\n",
    "\n",
    "    # 如果句子数量不足，直接返回整个文本\n",
    "    if len(sentences) <= sentences_per_chunk:\n",
    "        return [source_text]\n",
    "    \n",
    "    chunks = []\n",
    "    step = sentences_per_chunk - overlap\n",
    "    \n",
    "    # 生成知识块\n",
    "    for i in range(0, len(sentences), step):\n",
    "        chunk = sentences[i:i + sentences_per_chunk]\n",
    "        if len(chunk) < sentences_per_chunk and i > 0:\n",
    "            # 如果最后一个知识块句子不足，且不是第一个知识块，则跳过\n",
    "            continue\n",
    "        chunks.append(' '.join(chunk))\n",
    "    \n",
    "    return chunks"
   ]
  },
  {
   "cell_type": "markdown",
   "metadata": {},
   "source": [
    "3. 设置嵌入模型"
   ]
  },
  {
   "cell_type": "code",
   "execution_count": 5,
   "metadata": {},
   "outputs": [
    {
     "name": "stderr",
     "output_type": "stream",
     "text": [
      "No sentence-transformers model found with name sentence-transformers/all-MiniLM-L6-v2. Creating a new one with mean pooling.\n"
     ]
    },
    {
     "name": "stdout",
     "output_type": "stream",
     "text": [
      "文档向量维度: (21, 384)\n"
     ]
    }
   ],
   "source": [
    "from sentence_transformers import SentenceTransformer\n",
    "\n",
    "embedding_model = SentenceTransformer('sentence-transformers/all-MiniLM-L6-v2')\n",
    "chunks = split_text_by_sentences(source_text=text, sentences_per_chunk=8, overlap=2)\n",
    "embeddings = embedding_model.encode(chunks)\n",
    "print(f\"文档向量维度: {embeddings.shape}\")"
   ]
  },
  {
   "cell_type": "markdown",
   "metadata": {},
   "source": [
    "4. 创建向量存储"
   ]
  },
  {
   "cell_type": "code",
   "execution_count": 6,
   "metadata": {},
   "outputs": [
    {
     "name": "stdout",
     "output_type": "stream",
     "text": [
      "成功存储了 21 个文档块到向量数据库\n"
     ]
    }
   ],
   "source": [
    "# 创建向量存储\n",
    "import chromadb\n",
    "from chromadb.config import Settings\n",
    "\n",
    "# 初始化 Chroma 客户端，设置持久化存储\n",
    "client = chromadb.PersistentClient(path=\"./chroma_db\")\n",
    "\n",
    "# 创建或获取集合\n",
    "collection = client.get_or_create_collection(\n",
    "    name=\"black_myth_wiki\",  # 集合名称\n",
    "    metadata={\"hnsw:space\": \"cosine\"}  # 使用余弦相似度\n",
    ")\n",
    "\n",
    "# 准备数据\n",
    "ids = [f\"doc_{i}\" for i in range(len(chunks))]\n",
    "metadatas = [{\"source\": \"黑神话wiki\"} for _ in range(len(chunks))]\n",
    "\n",
    "# 将数据添加到集合中\n",
    "collection.add(\n",
    "    embeddings=embeddings.tolist(),\n",
    "    documents=chunks,\n",
    "    ids=ids,\n",
    "    metadatas=metadatas\n",
    ")\n",
    "\n",
    "print(f\"成功存储了 {len(chunks)} 个文档块到向量数据库\")"
   ]
  },
  {
   "cell_type": "markdown",
   "metadata": {},
   "source": [
    "4. 执行相似度检索"
   ]
  },
  {
   "cell_type": "code",
   "execution_count": 7,
   "metadata": {},
   "outputs": [
    {
     "name": "stdout",
     "output_type": "stream",
     "text": [
      "\n",
      "检索到的最相关文档片段：\n",
      "\n",
      "片段 1 (相似度得分: 0.5359):\n",
      "天命人与二郎神及四大天王在梅山展开激战[46]. 天命人杀死四大天王，并击败杨戬，杨戬的“第三眼”释放出孙悟空的第六件根器“意见欲”交给天命人，并分享他的领悟——原来之前的战斗实际上是让孙悟空通过肉身的死亡，从而让孙悟空找到摆脱束缚的道路. [47][48]\n",
      "\n",
      "结局\n",
      "天命人和猪八戒回到花果山，到达天真顶的石卵后，进入孙悟空执念所化的幻境“石中境”. 老猴子带领天命人和猪八戒渡过识海，老猴子提到孙悟空的第六件根器“意见欲”已经消逝，因为“意根”是每个生命独特的本质，注定会在生命终结时消散，所以孙悟空永远不会回来. 这次旅程的真正目的，是要天命人成为替身，继承孙悟空的根本和名号. 为了完成轮回，西游重续，天命人必须击败大圣残躯才能完成天命. [47]\n",
      "\n",
      "最后，天命人与代表孙悟空“执念”的大圣残躯战斗. 大圣残躯被击败后逐渐消散，紧箍儿掉入水中.\n",
      "\n",
      "片段 2 (相似度得分: 0.5281):\n",
      "[75][76]\n",
      "\n",
      "发行\n",
      "2023年1月，官方发布兔年短片，公布游戏的发布日期为2024年夏[77]. 开发团队致力于将游戏发布于PC与主流游戏主机平台[78]. 游戏将以买断制的形式发行，并可能有下载包. 2023年8月20日，在杭州举办线下试玩会，体验内容包括多个首领挑战以及独立的关卡片段[79]. 12月官方发布发售日预告，公布该游戏将登陆 PC、PS5 和 Xbox Series X/S 平台，也不排除支持可流畅运行的云游戏平台. [7]\n",
      "\n",
      "2024年2月，国家新闻出版署发布了当月国产网络游戏审批信息以及版号变更信息，包括《黑神话：悟空》在内的共111款游戏过审，标志着《黑神话：悟空》可以在中国大陆公开发售. [80]5月，在WeGame游戏之夜上，官方公布游戏将同步上线WeGame平台. [81]\n",
      "\n",
      "企业联合创始人刘卓解释游戏主角派生品的设计过程.\n",
      "\n",
      "片段 3 (相似度得分: 0.5191):\n",
      "[47]\n",
      "\n",
      "最后，天命人与代表孙悟空“执念”的大圣残躯战斗. 大圣残躯被击败后逐渐消散，紧箍儿掉入水中. 在决战之前如果天命人没有从二郎神那里获得孙悟空的第六件根器，孙悟空将不会复活，老猴子会将紧箍儿戴在天命人头上，天命人沦为天庭执行意志的新工具；但如果在决战之前天命人已经获得孙悟空的第六件根器，则六根齐聚，孙悟空成功复活，天命人成为孙悟空，老猴子虽然拿起了紧箍儿，但却没有给孙悟空戴上，孙悟空因此避免了天庭的束缚. [47][48]\n",
      "\n",
      "游戏开发\n",
      "《黑神话：悟空》由游戏科学于2017年开始开发，于2020年8月20日公布首段实机演示视频. [49]游戏预告片展示基于虚幻引擎4开发的游戏内容，主角在黑风山探索环境，并与各种敌人战斗. 发布一天内，预告片在YouTube上获得近200万次观看，在bilibili上则达到1000万次观看. [50][51]据电子游戏分析师丹尼尔·艾哈迈德（Daniel Ahmad）称，公布此段实机演示的主要目的是开发团队缺人，想通过这段视频吸引人才. [52]最初，开发团队只有7个人，但在游戏预告时，团队人数已增至约30人.\n"
     ]
    }
   ],
   "source": [
    "question = \"黑神话悟空的游戏有什么特点?\"\n",
    "\n",
    "# 将问题转换为向量\n",
    "question_embedding = embedding_model.encode(question)\n",
    "# 在向量数据库中搜索最相似的文档\n",
    "results = collection.query(\n",
    "    query_embeddings=[question_embedding.tolist()],\n",
    "    n_results=3  # 返回最相似的3个文档\n",
    ")\n",
    "# 打印检索结果\n",
    "print(\"\\n检索到的最相关文档片段：\")\n",
    "for i, (doc, score) in enumerate(zip(results['documents'][0], results['distances'][0])):\n",
    "    print(f\"\\n片段 {i+1} (相似度得分: {1-score:.4f}):\")\n",
    "    print(doc)"
   ]
  },
  {
   "cell_type": "markdown",
   "metadata": {},
   "source": [
    "5. 构建提示词"
   ]
  },
  {
   "cell_type": "code",
   "execution_count": 8,
   "metadata": {},
   "outputs": [],
   "source": [
    "prompt = f\"\"\"\n",
    "    请基于以下的上下文回答问题，如果上下文中不包含足够的回答问题的信息，请回答'我暂时无法回答该问题题'，不要编造。\n",
    "    上下文：\n",
    "    {doc}\n",
    "    我的问题是：{question}\n",
    "\"\"\""
   ]
  },
  {
   "cell_type": "markdown",
   "metadata": {},
   "source": [
    "6. 使用DeepSeek生成答案"
   ]
  },
  {
   "cell_type": "code",
   "execution_count": 9,
   "metadata": {},
   "outputs": [
    {
     "name": "stdout",
     "output_type": "stream",
     "text": [
      "\n",
      "生成的答案: 根据上下文，《黑神话：悟空》的特点包括：  \n",
      "1. **剧情分支**：游戏结局受玩家选择影响（如是否集齐第六件根器决定孙悟空是否复活及是否被天庭束缚）。  \n",
      "2. **战斗与探索**：预告片展示了主角在黑风山探索环境并与敌人战斗的实机内容。  \n",
      "3. **技术引擎**：基于虚幻引擎4开发，画面表现力强。  \n",
      "4. **开发背景**：初期团队规模小（7人），通过首段实机演示吸引人才，团队后续扩增至约30人。  \n",
      "\n",
      "上下文未提及其他具体玩法或系统设计，因此无法进一步补充。\n"
     ]
    }
   ],
   "source": [
    "from openai import OpenAI\n",
    "client = OpenAI(\n",
    "    api_key=DEEPSEEK_API_KEY,\n",
    "    base_url=\"https://api.deepseek.com/v1\"\n",
    ")\n",
    "\n",
    "response = client.chat.completions.create(\n",
    "    model=\"deepseek-chat\",  \n",
    "    messages=[{\n",
    "        \"role\": \"user\",\n",
    "        \"content\": prompt\n",
    "    }],\n",
    "    max_tokens=1024\n",
    ")\n",
    "print(f\"\\n生成的答案: {response.choices[0].message.content}\")"
   ]
  },
  {
   "cell_type": "markdown",
   "metadata": {},
   "source": [
    "7. 使用Ollama本地大模型生成答案"
   ]
  },
  {
   "cell_type": "code",
   "execution_count": 10,
   "metadata": {},
   "outputs": [
    {
     "name": "stdout",
     "output_type": "stream",
     "text": [
      "\n",
      "生成的答案: 《黑神话：悟空》游戏有以下特点：\n",
      "- 该游戏由游戏科学于2017年开始开发。\n",
      "- 2020年8月20日公布首段实机演示视频，展示了基于虚幻引擎4开发的游戏内容。 \n",
      "- 游戏中主角在黑风山探索环境，并与各种敌人战斗。\n",
      "- 发布预告片后，在YouTube和Bilibili平台上获得了大量观看次数。\n"
     ]
    }
   ],
   "source": [
    "from ollama import chat\n",
    "\n",
    "response = chat(\n",
    "    model='qwen2.5:3b',  \n",
    "    messages=[{\n",
    "        \"role\": \"user\",\n",
    "        \"content\": prompt\n",
    "    }],\n",
    ")\n",
    "print(f\"\\n生成的答案: {response.message.content}\")"
   ]
  }
 ],
 "metadata": {
  "kernelspec": {
   "display_name": "env_NotFramesRAG",
   "language": "python",
   "name": "python3"
  },
  "language_info": {
   "codemirror_mode": {
    "name": "ipython",
    "version": 3
   },
   "file_extension": ".py",
   "mimetype": "text/x-python",
   "name": "python",
   "nbconvert_exporter": "python",
   "pygments_lexer": "ipython3",
   "version": "3.11.11"
  }
 },
 "nbformat": 4,
 "nbformat_minor": 2
}
