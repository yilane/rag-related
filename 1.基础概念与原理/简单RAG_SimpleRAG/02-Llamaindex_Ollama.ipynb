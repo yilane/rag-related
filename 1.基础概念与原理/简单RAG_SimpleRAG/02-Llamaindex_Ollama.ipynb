{
 "cells": [
  {
   "cell_type": "markdown",
   "metadata": {},
   "source": [
    "加载环境变量"
   ]
  },
  {
   "cell_type": "code",
   "execution_count": 1,
   "metadata": {},
   "outputs": [
    {
     "data": {
      "text/plain": [
       "True"
      ]
     },
     "execution_count": 1,
     "metadata": {},
     "output_type": "execute_result"
    }
   ],
   "source": [
    "from dotenv import load_dotenv\n",
    "load_dotenv()"
   ]
  },
  {
   "cell_type": "markdown",
   "metadata": {},
   "source": [
    "1. 初始化模型"
   ]
  },
  {
   "cell_type": "code",
   "execution_count": 2,
   "metadata": {},
   "outputs": [],
   "source": [
    "# 加载本地嵌入模型（使用 HuggingFace 的嵌入模型）\n",
    "from llama_index.embeddings.huggingface import HuggingFaceEmbedding\n",
    "embed_model = HuggingFaceEmbedding(model_name=\"BAAI/bge-small-zh-v1.5\")\n",
    "\n",
    "# 创建 Ollama LLM\n",
    "# 注意：这里使用的是本地运行的 Ollama 服务\n",
    "# 确保您已经在本地运行了 Ollama 服务并下载了相应的模型\n",
    "from llama_index.llms.ollama import Ollama\n",
    "llm = Ollama(\n",
    "    model=\"qwen2.5:3b\",  # 可以根据需要更换其他模型，如 llama2, mistral 等\n",
    "    request_timeout=300.0  # 增加超时时间\n",
    ")"
   ]
  },
  {
   "cell_type": "markdown",
   "metadata": {},
   "source": [
    "2. 加载和读取文档"
   ]
  },
  {
   "cell_type": "code",
   "execution_count": 3,
   "metadata": {},
   "outputs": [],
   "source": [
    "from llama_index.core import VectorStoreIndex, SimpleDirectoryReader\n",
    "documents = SimpleDirectoryReader(input_files=[\"data/RAG.txt\"]).load_data()"
   ]
  },
  {
   "cell_type": "markdown",
   "metadata": {},
   "source": [
    "3. 构建向量存储索引"
   ]
  },
  {
   "cell_type": "code",
   "execution_count": 4,
   "metadata": {},
   "outputs": [],
   "source": [
    "index = VectorStoreIndex.from_documents(\n",
    "    documents,\n",
    "    embed_model=embed_model\n",
    ")"
   ]
  },
  {
   "cell_type": "markdown",
   "metadata": {},
   "source": [
    "4. 创建查询引擎"
   ]
  },
  {
   "cell_type": "code",
   "execution_count": 5,
   "metadata": {},
   "outputs": [],
   "source": [
    "query_engine = index.as_query_engine(\n",
    "    llm=llm,\n",
    "    similarity_top_k=3\n",
    ")"
   ]
  },
  {
   "cell_type": "markdown",
   "metadata": {},
   "source": [
    "5. 生成答案"
   ]
  },
  {
   "cell_type": "code",
   "execution_count": 6,
   "metadata": {},
   "outputs": [
    {
     "name": "stdout",
     "output_type": "stream",
     "text": [
      "问题: 什么是RAG？\n",
      "--------------------------------------------------\n",
      "回答: RAG（Retrieval-Augmented Generation）是一种先进的AI框架，它结合了信息检索和文本生成技术。通过动态地从知识库、数据库或外部来源检索相关信息来支持模型的生成过程，从而提升生成内容的准确性、事实性和可解释性。RAG的工作流程始于用户的问题或需要详细回复的任意一段文本，并基于这些输入查询进行信息搜索。搜寻的信息会以向量形式存储在向量数据库中，然后根据与查询的相关程度对这些信息进行排序和选择。通过这种方式，RAG能够帮助模型生成更准确、更可靠的响应。\n"
     ]
    }
   ],
   "source": [
    "question = \"什么是RAG？\";\n",
    "print(f\"问题: {question}\")\n",
    "print(\"-\"*50)\n",
    "response = query_engine.query(question)\n",
    "print(f\"回答: {response}\")"
   ]
  }
 ],
 "metadata": {
  "kernelspec": {
   "display_name": "env_LlamaIndex",
   "language": "python",
   "name": "python3"
  },
  "language_info": {
   "codemirror_mode": {
    "name": "ipython",
    "version": 3
   },
   "file_extension": ".py",
   "mimetype": "text/x-python",
   "name": "python",
   "nbconvert_exporter": "python",
   "pygments_lexer": "ipython3",
   "version": "3.11.11"
  }
 },
 "nbformat": 4,
 "nbformat_minor": 2
}
