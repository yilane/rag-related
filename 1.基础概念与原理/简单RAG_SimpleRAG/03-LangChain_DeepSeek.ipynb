{
 "cells": [
  {
   "cell_type": "markdown",
   "metadata": {},
   "source": [
    "加载环境变量"
   ]
  },
  {
   "cell_type": "code",
   "execution_count": 1,
   "metadata": {},
   "outputs": [],
   "source": [
    "from dotenv import load_dotenv\n",
    "import os\n",
    "load_dotenv()\n",
    "# 设置用户代理\n",
    "os.environ[\"USER_AGENT\"] = \"Mozilla/5.0 (Windows NT 10.0; Win64; x64) AppleWebKit/537.36 (KHTML, like Gecko) Chrome/91.0.4472.124 Safari/537.36\""
   ]
  },
  {
   "cell_type": "markdown",
   "metadata": {},
   "source": [
    "1. 加载文档"
   ]
  },
  {
   "cell_type": "code",
   "execution_count": 2,
   "metadata": {},
   "outputs": [],
   "source": [
    "from langchain_community.document_loaders import WebBaseLoader # pip install langchain-community\n",
    "\n",
    "loader = WebBaseLoader(\n",
    "    web_paths=(\"https://zh.wikipedia.org/wiki/黑神话：悟空\",)\n",
    ")\n",
    "docs = loader.load()"
   ]
  },
  {
   "cell_type": "markdown",
   "metadata": {},
   "source": [
    "2. 文档分块"
   ]
  },
  {
   "cell_type": "code",
   "execution_count": 3,
   "metadata": {},
   "outputs": [],
   "source": [
    "from langchain_text_splitters import RecursiveCharacterTextSplitter\n",
    "\n",
    "text_splitter = RecursiveCharacterTextSplitter(chunk_size=1000, chunk_overlap=200)\n",
    "all_splits = text_splitter.split_documents(docs)"
   ]
  },
  {
   "cell_type": "markdown",
   "metadata": {},
   "source": [
    "3. 设置嵌入模型"
   ]
  },
  {
   "cell_type": "code",
   "execution_count": 4,
   "metadata": {},
   "outputs": [],
   "source": [
    "from langchain_huggingface import HuggingFaceEmbeddings # pip install langchain-huggingface\n",
    "\n",
    "embeddings = HuggingFaceEmbeddings(\n",
    "    model_name=\"BAAI/bge-small-zh-v1.5\",\n",
    "    model_kwargs={'device': 'cpu'},\n",
    "    encode_kwargs={'normalize_embeddings': True}\n",
    ")\n"
   ]
  },
  {
   "cell_type": "markdown",
   "metadata": {},
   "source": [
    "4. 创建向量存储"
   ]
  },
  {
   "cell_type": "code",
   "execution_count": 5,
   "metadata": {},
   "outputs": [
    {
     "data": {
      "text/plain": [
       "['d35fe69b-a3c9-4182-9447-bba08ed4a2d5',\n",
       " 'e70f0d35-1318-4269-b03e-450fd6dfef91',\n",
       " 'fa818940-8365-4014-aaf2-07e904c173fd',\n",
       " '059ae77a-f766-40ab-9e2b-d1cd6d2f91a6',\n",
       " 'c20bcc80-2dba-4e71-8282-10520a554687',\n",
       " '57a2f105-dc22-486a-8ae8-ce2079f54ff3',\n",
       " '7ed03060-72f0-4622-ad3a-17376f8f223e',\n",
       " 'fe9e20a3-7e08-44f3-b2df-62430b36bf68',\n",
       " 'a32ce940-70d2-4adb-afb2-0984b1c0bc0e',\n",
       " '6b9db456-59c4-42f8-8457-a185e8dbc291',\n",
       " 'c9ee764a-8d39-454c-b57e-7eec5b2767bc',\n",
       " '48ac02a5-4e36-4150-b98a-f9b9937b47d9',\n",
       " 'a48c84b9-8737-4dc5-a3e4-a94cff1b11c0',\n",
       " '0789f785-bd02-4470-8cb0-0b468742f22a',\n",
       " '3d233d9c-1eeb-42fe-a214-1726de5f6ebc',\n",
       " '736bcbd9-62e8-40b9-9548-929e6f28a050',\n",
       " '136557cd-1d38-432b-af22-32eb679af835',\n",
       " 'abd8215d-bc11-4a07-b47c-814705c9d96f',\n",
       " '5c806d70-1eb1-45bf-be8b-b66915fef781',\n",
       " 'cf2880ac-d803-4e2b-abf4-502fbcfb23c0',\n",
       " '1dc7e8ee-4847-48d3-87ab-97d82088656b',\n",
       " '4c84e94b-e8c4-43c3-8973-d53ebbad1736',\n",
       " '3fd73faf-389f-4824-9b54-35bb6a3447d1',\n",
       " 'f643d791-303e-4ec0-a430-531d543364f7',\n",
       " '0c6ffe0f-a187-4cd7-b5ef-865ffa970d91',\n",
       " '7f67ffcd-70f1-47f7-8138-9941c58c43af',\n",
       " '318b695f-4e6f-41d2-aae3-b4ad0340731d',\n",
       " '59082b44-77a5-4205-90c8-f8aaf1a083c9',\n",
       " 'c9b1f1cf-c41b-4b15-9d9b-375a6d363253',\n",
       " '3d3869eb-79e3-4486-b5c7-6f10f1b39962',\n",
       " '37613787-a716-44f1-a0da-b554dc4422d9',\n",
       " '67d77f52-008b-4428-b0d5-94694ff3304a',\n",
       " '225638bb-1768-4473-9a5e-9dee2239ca7d',\n",
       " 'eb607691-b46b-4ce3-84d1-7293e51325b7',\n",
       " '6d30ab3a-ad96-415a-8241-17f6940b7415',\n",
       " 'df7440af-2c21-4d29-aca5-74c62277bf6f']"
      ]
     },
     "execution_count": 5,
     "metadata": {},
     "output_type": "execute_result"
    }
   ],
   "source": [
    "from langchain_core.vectorstores import InMemoryVectorStore\n",
    "\n",
    "vector_store = InMemoryVectorStore(embeddings)\n",
    "vector_store.add_documents(all_splits)"
   ]
  },
  {
   "cell_type": "markdown",
   "metadata": {},
   "source": [
    "5. 构建用户查询"
   ]
  },
  {
   "cell_type": "code",
   "execution_count": 6,
   "metadata": {},
   "outputs": [],
   "source": [
    "question = \"黑悟空有哪些游戏场景？\""
   ]
  },
  {
   "cell_type": "markdown",
   "metadata": {},
   "source": [
    "6. 在向量存储中搜索相关文档，并准备上下文内容"
   ]
  },
  {
   "cell_type": "code",
   "execution_count": 7,
   "metadata": {},
   "outputs": [],
   "source": [
    "retrieved_docs = vector_store.similarity_search(question, k=3)\n",
    "docs_content = \"\\n\\n\".join(doc.page_content for doc in retrieved_docs)"
   ]
  },
  {
   "cell_type": "markdown",
   "metadata": {},
   "source": [
    "7. 构建提示模板"
   ]
  },
  {
   "cell_type": "code",
   "execution_count": 8,
   "metadata": {},
   "outputs": [],
   "source": [
    "from langchain_core.prompts import ChatPromptTemplate\n",
    "\n",
    "prompt = ChatPromptTemplate.from_template(\"\"\"\n",
    "                基于以下上下文，回答问题。如果上下文中没有相关信息，\n",
    "                请说\"我无法从提供的上下文中找到相关信息\"。\n",
    "                上下文: {context}\n",
    "                问题: {question}\n",
    "                回答:\"\"\")"
   ]
  },
  {
   "cell_type": "markdown",
   "metadata": {},
   "source": [
    "8. 使用大语言模型生成答案"
   ]
  },
  {
   "cell_type": "code",
   "execution_count": 9,
   "metadata": {},
   "outputs": [],
   "source": [
    "from langchain_deepseek import ChatDeepSeek # pip install langchain-deepseek\n",
    "\n",
    "llm = ChatDeepSeek(\n",
    "    model=\"deepseek-chat\",  # DeepSeek API 支持的模型名称\n",
    "    temperature=0.7,        # 控制输出的随机性\n",
    "    max_tokens=2048,        # 最大输出长度\n",
    "    api_key=os.getenv(\"DEEPSEEK_API_KEY\")  # 从环境变量加载API key\n",
    ")"
   ]
  },
  {
   "cell_type": "markdown",
   "metadata": {},
   "source": [
    "9. 生成答案"
   ]
  },
  {
   "cell_type": "code",
   "execution_count": 10,
   "metadata": {},
   "outputs": [
    {
     "name": "stdout",
     "output_type": "stream",
     "text": [
      "问题: 黑悟空有哪些游戏场景？\n",
      "--------------------------------------------------\n",
      "回答: 根据提供的上下文，《黑神话：悟空》的游戏场景融合了中国文化和自然地标，具体包括以下取景地：  \n",
      "1. **重庆大足石刻**  \n",
      "2. **山西省**的多个地点：  \n",
      "   - 小西天  \n",
      "   - 南禅寺  \n",
      "   - 铁佛寺  \n",
      "   - 广胜寺  \n",
      "   - 鹳雀楼（游戏中的标志性地标之一）  \n",
      "3. 其他未明确列举的中国古建场景（上下文提到共36个取景地，其中27个位于山西）。  \n",
      "\n",
      "这些场景在游戏中通过三维建模还原，并融入了佛教、道教哲学元素，与《西游记》的神魔世界观相结合。\n"
     ]
    }
   ],
   "source": [
    "print(f\"问题: {question}\")\n",
    "print(\"-\"*50)\n",
    "answer = llm.invoke(prompt.format(question=question, context=docs_content))\n",
    "print(f\"回答: {answer.content}\")"
   ]
  }
 ],
 "metadata": {
  "kernelspec": {
   "display_name": "env_LangChain",
   "language": "python",
   "name": "python3"
  },
  "language_info": {
   "codemirror_mode": {
    "name": "ipython",
    "version": 3
   },
   "file_extension": ".py",
   "mimetype": "text/x-python",
   "name": "python",
   "nbconvert_exporter": "python",
   "pygments_lexer": "ipython3",
   "version": "3.11.11"
  }
 },
 "nbformat": 4,
 "nbformat_minor": 2
}
