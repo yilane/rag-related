{
 "cells": [
  {
   "cell_type": "markdown",
   "metadata": {},
   "source": [
    "加载环境变量"
   ]
  },
  {
   "cell_type": "code",
   "execution_count": 1,
   "metadata": {},
   "outputs": [],
   "source": [
    "from dotenv import load_dotenv\n",
    "import os\n",
    "\n",
    "load_dotenv()\n",
    "# 配置 DeepSeek API 密钥\n",
    "DEEPSEEK_API_KEY = os.getenv(\"DEEPSEEK_API_KEY\")\n",
    "if not DEEPSEEK_API_KEY:\n",
    "    raise ValueError(\"请设置 DEEPSEEK_API_KEY 环境变量\")\n",
    "# 设置用户代理\n",
    "os.environ[\"USER_AGENT\"] = \"Mozilla/5.0 (Windows NT 10.0; Win64; x64) AppleWebKit/537.36 (KHTML, like Gecko) Chrome/91.0.4472.124 Safari/537.36\""
   ]
  },
  {
   "cell_type": "markdown",
   "metadata": {},
   "source": [
    "1. 加载文档"
   ]
  },
  {
   "cell_type": "code",
   "execution_count": 2,
   "metadata": {},
   "outputs": [],
   "source": [
    "from langchain_community.document_loaders import WebBaseLoader # pip install langchain-community\n",
    "\n",
    "loader = WebBaseLoader(\n",
    "    web_paths=(\"https://zh.wikipedia.org/wiki/黑神话：悟空\",)\n",
    ")\n",
    "docs = loader.load()"
   ]
  },
  {
   "cell_type": "markdown",
   "metadata": {},
   "source": [
    "2. 文档分块"
   ]
  },
  {
   "cell_type": "code",
   "execution_count": 3,
   "metadata": {},
   "outputs": [],
   "source": [
    "from langchain_text_splitters import RecursiveCharacterTextSplitter\n",
    "\n",
    "text_splitter = RecursiveCharacterTextSplitter(chunk_size=1000, chunk_overlap=200)\n",
    "all_splits = text_splitter.split_documents(docs)"
   ]
  },
  {
   "cell_type": "markdown",
   "metadata": {},
   "source": [
    "3. 设置嵌入模型"
   ]
  },
  {
   "cell_type": "code",
   "execution_count": 4,
   "metadata": {},
   "outputs": [],
   "source": [
    "from langchain_huggingface import HuggingFaceEmbeddings # pip install langchain-huggingface\n",
    "\n",
    "embeddings = HuggingFaceEmbeddings(\n",
    "    model_name=\"BAAI/bge-small-zh-v1.5\",\n",
    "    model_kwargs={'device': 'cpu'},\n",
    "    encode_kwargs={'normalize_embeddings': True}\n",
    ")\n"
   ]
  },
  {
   "cell_type": "markdown",
   "metadata": {},
   "source": [
    "4. 创建向量存储"
   ]
  },
  {
   "cell_type": "code",
   "execution_count": 5,
   "metadata": {},
   "outputs": [
    {
     "data": {
      "text/plain": [
       "['ee03c8eb-934e-405d-b556-38b25f7d4e83',\n",
       " 'e15a84a6-525d-47d6-bc9f-7190ff447181',\n",
       " 'deac0d7a-429c-4c1f-953d-e559411b7d97',\n",
       " '0ce8b6e7-4e6c-4306-b6fd-29a543d1b48e',\n",
       " '65511949-4159-424f-9fb4-c3a07cf7827c',\n",
       " 'aee4283e-8f9b-43e6-bbf4-fad3f4db1035',\n",
       " '690dc2cf-675e-432e-99e5-1343d573f60f',\n",
       " 'fa851a61-bcc1-4367-b6a9-ab2ba09cc45d',\n",
       " '1d0ef6f2-c1d9-4314-bbdc-811da9138323',\n",
       " '189b102b-f111-4320-b23a-0ec265e3513c',\n",
       " '613369ee-e6e6-4c18-b5aa-02520377647b',\n",
       " '4fa4d743-31fb-4c31-9903-41b5e84f3434',\n",
       " 'f3514e20-a161-4c87-8358-de764bc78b41',\n",
       " 'f129e3b2-306b-4d17-a281-c4920df5e3e1',\n",
       " '35bc82e0-d989-4b0a-a063-962671f67a29',\n",
       " '7806eda4-91f9-429d-be75-3cc0da645ac9',\n",
       " '9d570f3b-6d08-4b70-a18f-0a49af013eb0',\n",
       " 'c6a88929-93d9-426b-b9d3-f34da22aef48',\n",
       " '057cd54b-acf3-4392-9a13-948f13e25dbd',\n",
       " '105fec33-e8e6-400c-b43e-98f776cecce2',\n",
       " 'a92b2e2d-4bb9-4d6f-94ba-973feb406302',\n",
       " '307a6c95-4b7b-498a-9fbc-e4465e3482bd',\n",
       " 'd04d0e59-e045-47dd-bf95-d77216c8fdb5',\n",
       " '355f91cf-5f10-437a-879b-f598f822202f',\n",
       " '6880c0aa-6ceb-48a4-a6c9-e29127d412ab',\n",
       " '1c19265b-f742-40b4-b05a-b664fb86b8de',\n",
       " '8a83b935-fe94-46a2-8157-7f28c473e287',\n",
       " 'beeae8f4-457d-4139-b700-c15f8c1367c6',\n",
       " 'a7dd6f49-1c25-4c0d-90af-e7dc17a36de6',\n",
       " '3a7851af-cb8b-440f-a715-c405ad31c2f1',\n",
       " 'b566e6ee-8363-4d66-ad9f-ee84a4dbc0ab',\n",
       " '7afefbc3-cb55-412e-aeb6-c5c0b8b9a740',\n",
       " 'a8ca3732-f0c6-407b-867c-5ced318de402',\n",
       " 'd5c3e63e-714c-4f2b-a7fa-eb2970ad5ecd',\n",
       " 'e13e1fbc-6f7f-4c4b-bb8a-be5d04dbd9e6',\n",
       " 'af42270f-6462-4977-9d7b-e702412e1704']"
      ]
     },
     "execution_count": 5,
     "metadata": {},
     "output_type": "execute_result"
    }
   ],
   "source": [
    "from langchain_core.vectorstores import InMemoryVectorStore\n",
    "\n",
    "vector_store = InMemoryVectorStore(embeddings)\n",
    "vector_store.add_documents(all_splits)"
   ]
  },
  {
   "cell_type": "markdown",
   "metadata": {},
   "source": [
    "5. 构建用户查询"
   ]
  },
  {
   "cell_type": "code",
   "execution_count": 6,
   "metadata": {},
   "outputs": [],
   "source": [
    "question = \"黑悟空有哪些游戏场景？\""
   ]
  },
  {
   "cell_type": "markdown",
   "metadata": {},
   "source": [
    "6. 在向量存储中搜索相关文档，并准备上下文内容"
   ]
  },
  {
   "cell_type": "code",
   "execution_count": 7,
   "metadata": {},
   "outputs": [],
   "source": [
    "retrieved_docs = vector_store.similarity_search(question, k=3)\n",
    "docs_content = \"\\n\\n\".join(doc.page_content for doc in retrieved_docs)"
   ]
  },
  {
   "cell_type": "markdown",
   "metadata": {},
   "source": [
    "7. 构建提示模板"
   ]
  },
  {
   "cell_type": "code",
   "execution_count": 8,
   "metadata": {},
   "outputs": [],
   "source": [
    "from langchain_core.prompts import ChatPromptTemplate\n",
    "\n",
    "prompt = ChatPromptTemplate.from_template(\"\"\"\n",
    "                基于以下上下文，回答问题。如果上下文中没有相关信息，\n",
    "                请说\"我无法从提供的上下文中找到相关信息\"。\n",
    "                上下文: {context}\n",
    "                问题: {question}\n",
    "                回答:\"\"\")"
   ]
  },
  {
   "cell_type": "markdown",
   "metadata": {},
   "source": [
    "8. 使用大语言模型生成答案"
   ]
  },
  {
   "cell_type": "code",
   "execution_count": 9,
   "metadata": {},
   "outputs": [],
   "source": [
    "from langchain_deepseek import ChatDeepSeek # pip install langchain-deepseek\n",
    "\n",
    "llm = ChatDeepSeek(\n",
    "    model=\"deepseek-chat\",  # DeepSeek API 支持的模型名称\n",
    "    temperature=0.7,        # 控制输出的随机性\n",
    "    max_tokens=2048,        # 最大输出长度\n",
    "    api_key=DEEPSEEK_API_KEY  # 从环境变量加载API key\n",
    ")"
   ]
  },
  {
   "cell_type": "markdown",
   "metadata": {},
   "source": [
    "9. 生成答案"
   ]
  },
  {
   "cell_type": "code",
   "execution_count": 10,
   "metadata": {},
   "outputs": [
    {
     "name": "stdout",
     "output_type": "stream",
     "text": [
      "问题: 黑悟空有哪些游戏场景？\n",
      "--------------------------------------------------\n",
      "回答: 根据提供的上下文，《黑神话：悟空》的游戏场景融合了中国多地文化和自然地标，具体包括以下取景地：  \n",
      "1. **重庆大足石刻**  \n",
      "2. **山西省**的多个地点：  \n",
      "   - 小西天  \n",
      "   - 南禅寺  \n",
      "   - 铁佛寺  \n",
      "   - 广胜寺  \n",
      "   - 鹳雀楼（游戏中的标志性地标之一）  \n",
      "3. 其他未明确提及但通过文博日历和IGN报道提到的中国古建场景（如部分寺庙和自然景观）。  \n",
      "\n",
      "此外，游戏地图设计包含线性进程与宽阔探索区域，场景会随剧情推进动态变化。更多细节可参考开发团队公开的取景地幕后花絮（如IGN中国报道）。\n"
     ]
    }
   ],
   "source": [
    "print(f\"问题: {question}\")\n",
    "print(\"-\"*50)\n",
    "answer = llm.invoke(prompt.format(question=question, context=docs_content))\n",
    "print(f\"回答: {answer.content}\")"
   ]
  }
 ],
 "metadata": {
  "kernelspec": {
   "display_name": "env_LangChain",
   "language": "python",
   "name": "python3"
  },
  "language_info": {
   "codemirror_mode": {
    "name": "ipython",
    "version": 3
   },
   "file_extension": ".py",
   "mimetype": "text/x-python",
   "name": "python",
   "nbconvert_exporter": "python",
   "pygments_lexer": "ipython3",
   "version": "3.11.11"
  }
 },
 "nbformat": 4,
 "nbformat_minor": 2
}
