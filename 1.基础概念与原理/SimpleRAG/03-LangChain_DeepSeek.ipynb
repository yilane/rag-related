{
 "cells": [
  {
   "cell_type": "markdown",
   "metadata": {},
   "source": [
    "加载环境变量"
   ]
  },
  {
   "cell_type": "code",
   "execution_count": 11,
   "metadata": {},
   "outputs": [],
   "source": [
    "from dotenv import load_dotenv\n",
    "import os\n",
    "load_dotenv()\n",
    "# 设置用户代理\n",
    "os.environ[\"USER_AGENT\"] = \"Mozilla/5.0 (Windows NT 10.0; Win64; x64) AppleWebKit/537.36 (KHTML, like Gecko) Chrome/91.0.4472.124 Safari/537.36\""
   ]
  },
  {
   "cell_type": "markdown",
   "metadata": {},
   "source": [
    "1. 加载文档"
   ]
  },
  {
   "cell_type": "code",
   "execution_count": 12,
   "metadata": {},
   "outputs": [],
   "source": [
    "from langchain_community.document_loaders import WebBaseLoader # pip install langchain-community\n",
    "\n",
    "loader = WebBaseLoader(\n",
    "    web_paths=(\"https://zh.wikipedia.org/wiki/黑神话：悟空\",)\n",
    ")\n",
    "docs = loader.load()"
   ]
  },
  {
   "cell_type": "markdown",
   "metadata": {},
   "source": [
    "2. 文档分块"
   ]
  },
  {
   "cell_type": "code",
   "execution_count": 13,
   "metadata": {},
   "outputs": [],
   "source": [
    "from langchain_text_splitters import RecursiveCharacterTextSplitter\n",
    "\n",
    "text_splitter = RecursiveCharacterTextSplitter(chunk_size=1000, chunk_overlap=200)\n",
    "all_splits = text_splitter.split_documents(docs)"
   ]
  },
  {
   "cell_type": "markdown",
   "metadata": {},
   "source": [
    "3. 设置嵌入模型"
   ]
  },
  {
   "cell_type": "code",
   "execution_count": 14,
   "metadata": {},
   "outputs": [],
   "source": [
    "from langchain_huggingface import HuggingFaceEmbeddings # pip install langchain-huggingface\n",
    "\n",
    "embeddings = HuggingFaceEmbeddings(\n",
    "    model_name=\"BAAI/bge-small-zh-v1.5\",\n",
    "    model_kwargs={'device': 'cpu'},\n",
    "    encode_kwargs={'normalize_embeddings': True}\n",
    ")\n"
   ]
  },
  {
   "cell_type": "markdown",
   "metadata": {},
   "source": [
    "4. 创建向量存储"
   ]
  },
  {
   "cell_type": "code",
   "execution_count": 15,
   "metadata": {},
   "outputs": [
    {
     "data": {
      "text/plain": [
       "['8e583a51-82cc-4aa8-9648-c963e63f519a',\n",
       " '2df95fb4-3643-47e5-847f-383ecb0706d0',\n",
       " '783cc74b-28b7-4994-be37-5e32ff84c282',\n",
       " 'e077eabd-b77b-4451-8878-af39957499c5',\n",
       " '1f17e3b9-eb71-4f9f-b2e4-bbf742a36b90',\n",
       " 'd1385609-58af-4a8f-bad9-7e40efc8e887',\n",
       " '00d171a2-69fa-4695-9f24-87637a296aa7',\n",
       " '87d26357-b5e4-46c7-b384-7f4e20767c86',\n",
       " 'e6a56f90-efb5-449f-977a-8af55d71d1c2',\n",
       " 'e1049732-f08a-4bb2-9939-26944a6c57e1',\n",
       " 'f0939f71-023c-443a-9fc6-974792f8393f',\n",
       " '78bdb23a-5b79-4f7c-acb9-b1e6b8b8ef00',\n",
       " '6a59fa65-dec9-4396-a7dc-8d72960aaf2d',\n",
       " 'efcb34c3-39cc-40d4-94ae-970f30bc34dc',\n",
       " '6c9ad127-4b95-406c-8c45-5ba070234085',\n",
       " 'f5e24f18-1563-4e71-800a-ebdf17d24bc1',\n",
       " '802aadf2-40a3-4ce7-a607-107daf223a98',\n",
       " '43975486-428e-4497-9cbd-d4da8fcb80b6',\n",
       " 'facca1bc-f7a6-4e06-8502-fdfcbabb065d',\n",
       " '47cf61e3-0911-41c6-8015-b2babc929b56',\n",
       " '2368e670-abf3-4c07-ac77-8318748c8a9a',\n",
       " '4369e756-ef48-4a06-8af0-a617e32103d2',\n",
       " 'e46cbe23-0890-494f-bcf2-c877096f6750',\n",
       " '2e46f7d1-3051-4ed8-ac90-ca1011a2a5fa',\n",
       " 'de0d0039-b818-4f8b-891a-25febdc20908',\n",
       " '2f0db9ea-5096-45b1-84f4-ab7c885008a5',\n",
       " '6c1eb704-7b6e-4a85-b1a7-dd78068aa0d8',\n",
       " '93fcb643-298a-4197-8c4c-175ded59c675',\n",
       " '0df1eab1-90e0-41eb-a990-08d07611ccc0',\n",
       " '9cae92b0-a968-4f46-b367-cf2886933944',\n",
       " 'c39d7a09-8c58-46cb-ad0f-e4690681ff5f',\n",
       " '6c3c980c-e9d1-4ab9-b371-8036edb298a2',\n",
       " '49e28fb8-7692-4e61-a818-f19927adec6f',\n",
       " '13f9657c-4c26-4846-9a57-35f15f93d293',\n",
       " '1f1255e1-fcb7-48b2-94ac-54716d266868',\n",
       " '6e05b648-5db4-4c44-ac03-d2fcc3cf770f']"
      ]
     },
     "execution_count": 15,
     "metadata": {},
     "output_type": "execute_result"
    }
   ],
   "source": [
    "from langchain_core.vectorstores import InMemoryVectorStore\n",
    "\n",
    "vector_store = InMemoryVectorStore(embeddings)\n",
    "vector_store.add_documents(all_splits)"
   ]
  },
  {
   "cell_type": "markdown",
   "metadata": {},
   "source": [
    "5. 构建用户查询"
   ]
  },
  {
   "cell_type": "code",
   "execution_count": 16,
   "metadata": {},
   "outputs": [],
   "source": [
    "question = \"黑悟空有哪些游戏场景？\""
   ]
  },
  {
   "cell_type": "markdown",
   "metadata": {},
   "source": [
    "6. 在向量存储中搜索相关文档，并准备上下文内容"
   ]
  },
  {
   "cell_type": "code",
   "execution_count": 17,
   "metadata": {},
   "outputs": [],
   "source": [
    "retrieved_docs = vector_store.similarity_search(question, k=3)\n",
    "docs_content = \"\\n\\n\".join(doc.page_content for doc in retrieved_docs)"
   ]
  },
  {
   "cell_type": "markdown",
   "metadata": {},
   "source": [
    "7. 构建提示模板"
   ]
  },
  {
   "cell_type": "code",
   "execution_count": 18,
   "metadata": {},
   "outputs": [],
   "source": [
    "from langchain_core.prompts import ChatPromptTemplate\n",
    "\n",
    "prompt = ChatPromptTemplate.from_template(\"\"\"\n",
    "                基于以下上下文，回答问题。如果上下文中没有相关信息，\n",
    "                请说\"我无法从提供的上下文中找到相关信息\"。\n",
    "                上下文: {context}\n",
    "                问题: {question}\n",
    "                回答:\"\"\")"
   ]
  },
  {
   "cell_type": "markdown",
   "metadata": {},
   "source": [
    "8. 使用大语言模型生成答案"
   ]
  },
  {
   "cell_type": "code",
   "execution_count": 19,
   "metadata": {},
   "outputs": [],
   "source": [
    "from langchain_deepseek import ChatDeepSeek # pip install langchain-deepseek\n",
    "\n",
    "llm = ChatDeepSeek(\n",
    "    model=\"deepseek-chat\",  # DeepSeek API 支持的模型名称\n",
    "    temperature=0.7,        # 控制输出的随机性\n",
    "    max_tokens=2048,        # 最大输出长度\n",
    "    api_key=os.getenv(\"DEEPSEEK_API_KEY\")  # 从环境变量加载API key\n",
    ")"
   ]
  },
  {
   "cell_type": "markdown",
   "metadata": {},
   "source": [
    "9. 生成答案"
   ]
  },
  {
   "cell_type": "code",
   "execution_count": 20,
   "metadata": {},
   "outputs": [
    {
     "name": "stdout",
     "output_type": "stream",
     "text": [
      "问题: 黑悟空有哪些游戏场景？\n",
      "--------------------------------------------------\n",
      "回答: 根据提供的上下文，《黑神话：悟空》的游戏场景融合了中国文化和自然地标，具体包括以下取景地：  \n",
      "1. **重庆大足石刻**  \n",
      "2. **山西省的多个地点**：  \n",
      "   - 小西天  \n",
      "   - 南禅寺  \n",
      "   - 铁佛寺  \n",
      "   - 广胜寺  \n",
      "   - 鹳雀楼（游戏中标志性地标之一）  \n",
      "3. 其他未明确列出的场景可能还包括《西游记》原著相关的神话场景（如花果山等），但上下文中未详细提及。  \n",
      "\n",
      "此外，游戏地图设计为线性与宽阔探索区域结合，并会随剧情进展动态变化，但具体场景名称（如章节中的“火照黑云”“风起黄昏”等）更多属于叙事章节而非地理场景。\n"
     ]
    }
   ],
   "source": [
    "print(f\"问题: {question}\")\n",
    "print(\"-\"*50)\n",
    "answer = llm.invoke(prompt.format(question=question, context=docs_content))\n",
    "print(f\"回答: {answer.content}\")"
   ]
  }
 ],
 "metadata": {
  "kernelspec": {
   "display_name": "env_LangChain",
   "language": "python",
   "name": "python3"
  },
  "language_info": {
   "codemirror_mode": {
    "name": "ipython",
    "version": 3
   },
   "file_extension": ".py",
   "mimetype": "text/x-python",
   "name": "python",
   "nbconvert_exporter": "python",
   "pygments_lexer": "ipython3",
   "version": "3.11.11"
  }
 },
 "nbformat": 4,
 "nbformat_minor": 2
}
