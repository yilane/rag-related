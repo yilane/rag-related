{
 "cells": [
  {
   "cell_type": "markdown",
   "metadata": {},
   "source": [
    "加载环境变量"
   ]
  },
  {
   "cell_type": "code",
   "execution_count": 13,
   "metadata": {},
   "outputs": [],
   "source": [
    "from dotenv import load_dotenv\n",
    "import os\n",
    "load_dotenv()\n",
    "# 设置用户代理\n",
    "os.environ[\"USER_AGENT\"] = \"Mozilla/5.0 (Windows NT 10.0; Win64; x64) AppleWebKit/537.36 (KHTML, like Gecko) Chrome/91.0.4472.124 Safari/537.36\""
   ]
  },
  {
   "cell_type": "markdown",
   "metadata": {},
   "source": [
    "1. 加载文档"
   ]
  },
  {
   "cell_type": "code",
   "execution_count": 14,
   "metadata": {},
   "outputs": [],
   "source": [
    "from langchain_community.document_loaders import WebBaseLoader # pip install langchain-community\n",
    "\n",
    "loader = WebBaseLoader(\n",
    "    web_paths=(\"https://zh.wikipedia.org/wiki/黑神话：悟空\",)\n",
    ")\n",
    "docs = loader.load()"
   ]
  },
  {
   "cell_type": "markdown",
   "metadata": {},
   "source": [
    "2. 文档分块"
   ]
  },
  {
   "cell_type": "code",
   "execution_count": 15,
   "metadata": {},
   "outputs": [],
   "source": [
    "from langchain_text_splitters import RecursiveCharacterTextSplitter\n",
    "\n",
    "text_splitter = RecursiveCharacterTextSplitter(chunk_size=1000, chunk_overlap=200)\n",
    "all_splits = text_splitter.split_documents(docs)"
   ]
  },
  {
   "cell_type": "markdown",
   "metadata": {},
   "source": [
    "3. 设置嵌入模型"
   ]
  },
  {
   "cell_type": "code",
   "execution_count": 16,
   "metadata": {},
   "outputs": [],
   "source": [
    "from langchain_huggingface import HuggingFaceEmbeddings # pip install langchain-huggingface\n",
    "\n",
    "embeddings = HuggingFaceEmbeddings(\n",
    "    model_name=\"BAAI/bge-small-zh-v1.5\",\n",
    "    model_kwargs={'device': 'cpu'},\n",
    "    encode_kwargs={'normalize_embeddings': True}\n",
    ")\n"
   ]
  },
  {
   "cell_type": "markdown",
   "metadata": {},
   "source": [
    "4. 创建向量存储"
   ]
  },
  {
   "cell_type": "code",
   "execution_count": 17,
   "metadata": {},
   "outputs": [
    {
     "data": {
      "text/plain": [
       "['61c3c74f-79d7-41ae-8620-093ccf53e595',\n",
       " '99a56190-5a77-4421-b453-9c5fbce6457e',\n",
       " '14090160-8b00-4772-b14a-ced465251d2f',\n",
       " 'a71cb0bb-e3c9-4972-b32c-d81835a995a6',\n",
       " '21550334-808d-4839-ade1-0151c3124b56',\n",
       " 'cf162b56-7632-4fe8-a42c-f6e5ba4d9821',\n",
       " 'cf54afac-e6da-4696-bf65-246edcf92efd',\n",
       " 'a153f2b7-c90c-4bbf-b7cc-ad778fa3117c',\n",
       " 'cc6b3a23-1a64-4a9e-99ed-790559c1ab9b',\n",
       " 'c3fd9ce5-4083-44a4-8523-492da026a6a7',\n",
       " 'b061c4a6-383f-4a47-a420-6077579a59c9',\n",
       " '6893b6f3-dd6f-462e-97cb-f67085b24391',\n",
       " '4d3c8ddb-81cb-47fd-b982-718226d0013e',\n",
       " '30a22f5b-e80a-427f-b01c-01172210f9de',\n",
       " '7e8d736c-2303-42e7-ab42-09abe61492dd',\n",
       " '4aa4ccec-d8b0-4f85-bfec-696cfdcf0197',\n",
       " 'cc3edfd9-33b0-4071-8ee0-afcb50200206',\n",
       " '645557e4-3655-409b-b0c5-8370d83d6e89',\n",
       " 'ac8655a5-705e-4e15-9515-c8bd6d5cd0fa',\n",
       " '6dc12ddc-fc57-4b94-bf12-9e324891d495',\n",
       " '2722f8fe-e870-4bf7-a433-6c3fe8394877',\n",
       " 'c8354eca-a3a0-4e3e-914a-93b39d32fd4c',\n",
       " '50fafa53-d0a3-4b3a-a22b-014a93b57ff3',\n",
       " 'f5bda8a7-2982-4dea-acfb-3511a689f5a8',\n",
       " '1cd1e47e-349e-40b6-b6fc-36167daf2e3e',\n",
       " 'ee1ef2c2-d021-4142-a7f8-7c2e8f71ad80',\n",
       " '15443a04-83da-47d1-9a26-28167eea112b',\n",
       " '4bb51b56-fb32-4b2b-878d-89c081f03b9b',\n",
       " '0956543b-a0da-4fdf-ac2a-971c4fc43207',\n",
       " '2d19f884-8da1-4513-a509-07697b06d54e',\n",
       " '3bfbe81b-6632-42b0-8e6b-21e2decd2937',\n",
       " '184e077b-bec4-47fa-b841-2b4388471e7d',\n",
       " 'baff74ae-e050-446b-be47-52faa60f1722',\n",
       " '9eff58ea-da15-40b1-89ea-888f3ea7e4c5',\n",
       " '595513c9-f043-4591-9bf5-9656e4aaf03b',\n",
       " 'b109ae58-471d-4b9f-9e39-b5cacf91865c']"
      ]
     },
     "execution_count": 17,
     "metadata": {},
     "output_type": "execute_result"
    }
   ],
   "source": [
    "from langchain_core.vectorstores import InMemoryVectorStore\n",
    "\n",
    "vector_store = InMemoryVectorStore(embeddings)\n",
    "vector_store.add_documents(all_splits)"
   ]
  },
  {
   "cell_type": "markdown",
   "metadata": {},
   "source": [
    "5. 构建用户查询"
   ]
  },
  {
   "cell_type": "code",
   "execution_count": 18,
   "metadata": {},
   "outputs": [],
   "source": [
    "question = \"黑悟空有哪些游戏场景？\""
   ]
  },
  {
   "cell_type": "markdown",
   "metadata": {},
   "source": [
    "6. 在向量存储中搜索相关文档，并准备上下文内容"
   ]
  },
  {
   "cell_type": "code",
   "execution_count": 19,
   "metadata": {},
   "outputs": [],
   "source": [
    "retrieved_docs = vector_store.similarity_search(question, k=3)\n",
    "docs_content = \"\\n\\n\".join(doc.page_content for doc in retrieved_docs)"
   ]
  },
  {
   "cell_type": "markdown",
   "metadata": {},
   "source": [
    "7. 构建提示模板"
   ]
  },
  {
   "cell_type": "code",
   "execution_count": 20,
   "metadata": {},
   "outputs": [],
   "source": [
    "from langchain_core.prompts import ChatPromptTemplate\n",
    "\n",
    "prompt = ChatPromptTemplate.from_template(\"\"\"\n",
    "                基于以下上下文，回答问题。如果上下文中没有相关信息，\n",
    "                请说\"我无法从提供的上下文中找到相关信息\"。\n",
    "                上下文: {context}\n",
    "                问题: {question}\n",
    "                回答:\"\"\")"
   ]
  },
  {
   "cell_type": "markdown",
   "metadata": {},
   "source": [
    "8. 使用大语言模型生成答案"
   ]
  },
  {
   "cell_type": "code",
   "execution_count": 21,
   "metadata": {},
   "outputs": [],
   "source": [
    "from langchain_deepseek import ChatDeepSeek # pip install langchain-deepseek\n",
    "\n",
    "llm = ChatDeepSeek(\n",
    "    model=\"deepseek-chat\",  # DeepSeek API 支持的模型名称\n",
    "    temperature=0.7,        # 控制输出的随机性\n",
    "    max_tokens=2048,        # 最大输出长度\n",
    "    api_key=os.getenv(\"DEEPSEEK_API_KEY\")  # 从环境变量加载API key\n",
    ")"
   ]
  },
  {
   "cell_type": "markdown",
   "metadata": {},
   "source": [
    "9. 生成答案"
   ]
  },
  {
   "cell_type": "code",
   "execution_count": 24,
   "metadata": {},
   "outputs": [
    {
     "name": "stdout",
     "output_type": "stream",
     "text": [
      "问题: 黑悟空有哪些游戏场景？\n",
      " -  -  -  -  -  -  -  -  -  -  -  -  -  -  -  -  -  -  -  -  -  -  -  -  -  -  -  -  -  -  -  -  -  -  -  -  -  -  -  -  -  -  -  -  -  -  -  -  -  - \n",
      "回答: 根据上下文，《黑神话：悟空》的游戏场景融合了中国多地文化和自然地标，具体包括以下取景地：  \n",
      "1. **重庆大足石刻**  \n",
      "2. **山西的多个地点**：  \n",
      "   - 小西天  \n",
      "   - 南禅寺  \n",
      "   - 铁佛寺  \n",
      "   - 广胜寺  \n",
      "   - 鹳雀楼（游戏中的标志性地标之一）  \n",
      "3. 其他未明确列出的场景可能还包括《西游记》原著相关的神话场景（如花果山等），但上下文中未详细提及。  \n",
      "\n",
      "此外，游戏地图设计为线性与宽阔探索区域结合，并会随剧情进展动态变化，但玩家无法手动调整地图。\n"
     ]
    }
   ],
   "source": [
    "print(f\"问题: {question}\")\n",
    "print(\"-\"*50)\n",
    "answer = llm.invoke(prompt.format(question=question, context=docs_content))\n",
    "print(f\"回答: {answer.content}\")"
   ]
  }
 ],
 "metadata": {
  "kernelspec": {
   "display_name": "env_LangChain",
   "language": "python",
   "name": "python3"
  },
  "language_info": {
   "codemirror_mode": {
    "name": "ipython",
    "version": 3
   },
   "file_extension": ".py",
   "mimetype": "text/x-python",
   "name": "python",
   "nbconvert_exporter": "python",
   "pygments_lexer": "ipython3",
   "version": "3.11.11"
  }
 },
 "nbformat": 4,
 "nbformat_minor": 2
}
