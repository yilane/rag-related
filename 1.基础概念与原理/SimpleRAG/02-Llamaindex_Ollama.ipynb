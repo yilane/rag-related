{
 "cells": [
  {
   "cell_type": "markdown",
   "metadata": {},
   "source": [
    "加载环境变量"
   ]
  },
  {
   "cell_type": "code",
   "execution_count": 5,
   "metadata": {},
   "outputs": [
    {
     "data": {
      "text/plain": [
       "True"
      ]
     },
     "execution_count": 5,
     "metadata": {},
     "output_type": "execute_result"
    }
   ],
   "source": [
    "from dotenv import load_dotenv\n",
    "load_dotenv()"
   ]
  },
  {
   "cell_type": "markdown",
   "metadata": {},
   "source": [
    "1. 初始化模型"
   ]
  },
  {
   "cell_type": "code",
   "execution_count": 7,
   "metadata": {},
   "outputs": [],
   "source": [
    "# 加载本地嵌入模型（使用 HuggingFace 的嵌入模型）\n",
    "from llama_index.embeddings.huggingface import HuggingFaceEmbedding\n",
    "embed_model = HuggingFaceEmbedding(model_name=\"BAAI/bge-small-zh-v1.5\")\n",
    "\n",
    "# 创建 Ollama LLM\n",
    "# 注意：这里使用的是本地运行的 Ollama 服务\n",
    "# 确保您已经在本地运行了 Ollama 服务并下载了相应的模型\n",
    "from llama_index.llms.ollama import Ollama\n",
    "llm = Ollama(\n",
    "    model=\"qwen2.5:3b\",  # 可以根据需要更换其他模型，如 llama2, mistral 等\n",
    "    request_timeout=300.0  # 增加超时时间\n",
    ")"
   ]
  },
  {
   "cell_type": "markdown",
   "metadata": {},
   "source": [
    "2. 加载和读取文档"
   ]
  },
  {
   "cell_type": "code",
   "execution_count": 8,
   "metadata": {},
   "outputs": [],
   "source": [
    "from llama_index.core import VectorStoreIndex, SimpleDirectoryReader\n",
    "documents = SimpleDirectoryReader(input_files=[\"Data/RAG.txt\"]).load_data()"
   ]
  },
  {
   "cell_type": "markdown",
   "metadata": {},
   "source": [
    "3. 构建向量存储索引"
   ]
  },
  {
   "cell_type": "code",
   "execution_count": 9,
   "metadata": {},
   "outputs": [],
   "source": [
    "index = VectorStoreIndex.from_documents(\n",
    "    documents,\n",
    "    embed_model=embed_model\n",
    ")"
   ]
  },
  {
   "cell_type": "markdown",
   "metadata": {},
   "source": [
    "4. 创建查询引擎"
   ]
  },
  {
   "cell_type": "code",
   "execution_count": 10,
   "metadata": {},
   "outputs": [],
   "source": [
    "query_engine = index.as_query_engine(\n",
    "    llm=llm,\n",
    "    similarity_top_k=3\n",
    ")"
   ]
  },
  {
   "cell_type": "markdown",
   "metadata": {},
   "source": [
    "5. 生成答案"
   ]
  },
  {
   "cell_type": "code",
   "execution_count": 11,
   "metadata": {},
   "outputs": [
    {
     "name": "stdout",
     "output_type": "stream",
     "text": [
      "问题: 什么是RAG？\n",
      "--------------------------------------------------\n",
      "回答: RAG（Retrieval-Augmented Generation）是一种AI技术框架，结合了信息检索和文本生成技术，旨在提升模型在生成内容时的准确性、事实性和可解释性。通过动态从外部知识库中检索相关信息来支持生成过程，解决了传统的大语言模型如GPT可能存在的“幻觉”问题（即生成虚构信息）以及知识更新滞后的问题。任何有效的信息检索相关技术都可以被视为RAG的一部分。RAG流程始于输入查询，比如用户的问题或需要详细回复的文本段落，随后从知识库、数据库或其他外部来源获取相关信息，并将这些信息转化为高维度空间中的向量进行排序和选择使用。\n"
     ]
    }
   ],
   "source": [
    "question = \"什么是RAG？\";\n",
    "print(f\"问题: {question}\")\n",
    "print(\"-\"*50)\n",
    "response = query_engine.query(question)\n",
    "print(f\"回答: {response}\")"
   ]
  }
 ],
 "metadata": {
  "kernelspec": {
   "display_name": "env_LlamaIndex",
   "language": "python",
   "name": "python3"
  },
  "language_info": {
   "codemirror_mode": {
    "name": "ipython",
    "version": 3
   },
   "file_extension": ".py",
   "mimetype": "text/x-python",
   "name": "python",
   "nbconvert_exporter": "python",
   "pygments_lexer": "ipython3",
   "version": "3.11.11"
  }
 },
 "nbformat": 4,
 "nbformat_minor": 2
}
