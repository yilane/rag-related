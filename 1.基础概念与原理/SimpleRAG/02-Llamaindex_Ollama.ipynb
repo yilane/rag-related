{
 "cells": [
  {
   "cell_type": "markdown",
   "metadata": {},
   "source": [
    "加载环境变量"
   ]
  },
  {
   "cell_type": "code",
   "execution_count": 1,
   "metadata": {},
   "outputs": [
    {
     "data": {
      "text/plain": [
       "True"
      ]
     },
     "execution_count": 1,
     "metadata": {},
     "output_type": "execute_result"
    }
   ],
   "source": [
    "from dotenv import load_dotenv\n",
    "load_dotenv()"
   ]
  },
  {
   "cell_type": "markdown",
   "metadata": {},
   "source": [
    "1. 初始化模型"
   ]
  },
  {
   "cell_type": "code",
   "execution_count": 2,
   "metadata": {},
   "outputs": [],
   "source": [
    "# 加载本地嵌入模型（使用 HuggingFace 的嵌入模型）\n",
    "from llama_index.embeddings.huggingface import HuggingFaceEmbedding\n",
    "embed_model = HuggingFaceEmbedding(model_name=\"BAAI/bge-small-zh-v1.5\")\n",
    "\n",
    "# 创建 Ollama LLM\n",
    "# 注意：这里使用的是本地运行的 Ollama 服务\n",
    "# 确保您已经在本地运行了 Ollama 服务并下载了相应的模型\n",
    "from llama_index.llms.ollama import Ollama\n",
    "llm = Ollama(\n",
    "    model=\"qwen2.5:3b\",  # 可以根据需要更换其他模型，如 llama2, mistral 等\n",
    "    request_timeout=300.0  # 增加超时时间\n",
    ")"
   ]
  },
  {
   "cell_type": "markdown",
   "metadata": {},
   "source": [
    "2. 加载和读取文档"
   ]
  },
  {
   "cell_type": "code",
   "execution_count": 3,
   "metadata": {},
   "outputs": [],
   "source": [
    "from llama_index.core import VectorStoreIndex, SimpleDirectoryReader\n",
    "documents = SimpleDirectoryReader(input_files=[\"Data/RAG.txt\"]).load_data()"
   ]
  },
  {
   "cell_type": "markdown",
   "metadata": {},
   "source": [
    "3. 构建向量存储索引"
   ]
  },
  {
   "cell_type": "code",
   "execution_count": 4,
   "metadata": {},
   "outputs": [],
   "source": [
    "index = VectorStoreIndex.from_documents(\n",
    "    documents,\n",
    "    embed_model=embed_model\n",
    ")"
   ]
  },
  {
   "cell_type": "markdown",
   "metadata": {},
   "source": [
    "4. 创建查询引擎"
   ]
  },
  {
   "cell_type": "code",
   "execution_count": 5,
   "metadata": {},
   "outputs": [],
   "source": [
    "query_engine = index.as_query_engine(\n",
    "    llm=llm,\n",
    "    similarity_top_k=3\n",
    ")"
   ]
  },
  {
   "cell_type": "markdown",
   "metadata": {},
   "source": [
    "5. 生成答案"
   ]
  },
  {
   "cell_type": "code",
   "execution_count": 6,
   "metadata": {},
   "outputs": [
    {
     "name": "stdout",
     "output_type": "stream",
     "text": [
      "问题: 什么是RAG？\n",
      "--------------------------------------------------\n",
      "回答: RAG是一种先进的AI框架，结合了信息检索和文本生成技术，旨在提升模型生成内容的准确性、事实性和可解释性。它通过动态检索外部知识库为生成过程提供支持，解决了传统大语言模型如GPT存在的“幻觉”（生成虚构信息）及知识更新滞后等问题。RAG从输入查询开始，根据查询内容动态地在知识库、数据库或外部来源中进行信息检索，并将检索到的信息转化为高维度空间中的向量存储于向量数据库中。基于输入查询的相关性排序后，再选择分数最高的文档或段落用于进一步处理和生成高质量的回复。\n"
     ]
    }
   ],
   "source": [
    "question = \"什么是RAG？\";\n",
    "print(f\"问题: {question}\")\n",
    "print(\"-\"*50)\n",
    "response = query_engine.query(question)\n",
    "print(f\"回答: {response}\")"
   ]
  }
 ],
 "metadata": {
  "kernelspec": {
   "display_name": "env_LlamaIndex",
   "language": "python",
   "name": "python3"
  },
  "language_info": {
   "codemirror_mode": {
    "name": "ipython",
    "version": 3
   },
   "file_extension": ".py",
   "mimetype": "text/x-python",
   "name": "python",
   "nbconvert_exporter": "python",
   "pygments_lexer": "ipython3",
   "version": "3.11.11"
  }
 },
 "nbformat": 4,
 "nbformat_minor": 2
}
