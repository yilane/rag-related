{
 "cells": [
  {
   "cell_type": "markdown",
   "metadata": {},
   "source": [
    "加载环境变量"
   ]
  },
  {
   "cell_type": "code",
   "execution_count": 1,
   "metadata": {},
   "outputs": [],
   "source": [
    "from dotenv import load_dotenv\n",
    "import os\n",
    "load_dotenv()\n",
    "# 配置 DeepSeek API 密钥\n",
    "DEEPSEEK_API_KEY = os.getenv(\"DEEPSEEK_API_KEY\")\n",
    "if not DEEPSEEK_API_KEY:\n",
    "    raise ValueError(\"请设置 DEEPSEEK_API_KEY 环境变量\")"
   ]
  },
  {
   "cell_type": "markdown",
   "metadata": {},
   "source": [
    "1. 初始化模型 "
   ]
  },
  {
   "cell_type": "code",
   "execution_count": 2,
   "metadata": {},
   "outputs": [
    {
     "name": "stderr",
     "output_type": "stream",
     "text": [
      "/home/ylins/miniconda3/envs/env_LlamaIndex/lib/python3.11/site-packages/tqdm/auto.py:21: TqdmWarning: IProgress not found. Please update jupyter and ipywidgets. See https://ipywidgets.readthedocs.io/en/stable/user_install.html\n",
      "  from .autonotebook import tqdm as notebook_tqdm\n"
     ]
    }
   ],
   "source": [
    "# 加载本地嵌入模型（使用 HuggingFace 的嵌入模型）\n",
    "from llama_index.embeddings.huggingface import HuggingFaceEmbedding\n",
    "embed_model = HuggingFaceEmbedding(model_name=\"BAAI/bge-small-zh-v1.5\")\n",
    "\n",
    "# 创建 DeepSeek LLM\n",
    "from llama_index.llms.deepseek import DeepSeek\n",
    "llm = DeepSeek(\n",
    "    api_key=DEEPSEEK_API_KEY,\n",
    "    model=\"deepseek-chat\",\n",
    "    temperature=0.1\n",
    ")"
   ]
  },
  {
   "cell_type": "markdown",
   "metadata": {},
   "source": [
    "2. 加载和读取文档"
   ]
  },
  {
   "cell_type": "code",
   "execution_count": 3,
   "metadata": {},
   "outputs": [],
   "source": [
    "from llama_index.core import SimpleDirectoryReader\n",
    "documents = SimpleDirectoryReader(input_files=[\"Data/RAG.txt\"]).load_data()"
   ]
  },
  {
   "cell_type": "markdown",
   "metadata": {},
   "source": [
    "3. 构建向量存储索引"
   ]
  },
  {
   "cell_type": "code",
   "execution_count": 4,
   "metadata": {},
   "outputs": [],
   "source": [
    "from llama_index.core import VectorStoreIndex\n",
    "index = VectorStoreIndex.from_documents(\n",
    "    documents,\n",
    "    embed_model=embed_model\n",
    ")"
   ]
  },
  {
   "cell_type": "markdown",
   "metadata": {},
   "source": [
    "4. 创建查询引擎"
   ]
  },
  {
   "cell_type": "code",
   "execution_count": 5,
   "metadata": {},
   "outputs": [],
   "source": [
    "query_engine = index.as_query_engine(\n",
    "    llm=llm,\n",
    "    similarity_top_k=3\n",
    ")"
   ]
  },
  {
   "cell_type": "markdown",
   "metadata": {},
   "source": [
    "5. 生成答案"
   ]
  },
  {
   "cell_type": "code",
   "execution_count": 6,
   "metadata": {},
   "outputs": [
    {
     "name": "stdout",
     "output_type": "stream",
     "text": [
      "问题: 什么是RAG？\n",
      "--------------------------------------------------\n",
      "回答: RAG（检索增强生成）是一种先进的AI框架，它通过整合信息检索和文本生成技术来提高生成内容的准确性和可靠性。这种方法能够动态地从外部知识库中检索相关信息，为文本生成提供事实依据，从而有效解决传统大语言模型可能产生的虚构信息或知识过时等问题。RAG的工作流程包括从查询输入开始，检索相关数据，将其转化为向量形式并进行排序，最终选取最相关的信息用于生成回答。\n"
     ]
    }
   ],
   "source": [
    "question = \"什么是RAG？\";\n",
    "print(f\"问题: {question}\")\n",
    "print(\"-\"*50)\n",
    "response = query_engine.query(question)\n",
    "print(f\"回答: {response}\")"
   ]
  }
 ],
 "metadata": {
  "kernelspec": {
   "display_name": "env_LlamaIndex",
   "language": "python",
   "name": "python3"
  },
  "language_info": {
   "codemirror_mode": {
    "name": "ipython",
    "version": 3
   },
   "file_extension": ".py",
   "mimetype": "text/x-python",
   "name": "python",
   "nbconvert_exporter": "python",
   "pygments_lexer": "ipython3",
   "version": "3.11.11"
  }
 },
 "nbformat": 4,
 "nbformat_minor": 2
}
