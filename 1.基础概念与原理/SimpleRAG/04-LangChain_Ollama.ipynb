{
 "cells": [
  {
   "cell_type": "markdown",
   "metadata": {},
   "source": [
    "加载环境变量"
   ]
  },
  {
   "cell_type": "code",
   "execution_count": 13,
   "metadata": {},
   "outputs": [],
   "source": [
    "from dotenv import load_dotenv\n",
    "import os\n",
    "load_dotenv()\n",
    "# 设置用户代理\n",
    "os.environ[\"USER_AGENT\"] = \"Mozilla/5.0 (Windows NT 10.0; Win64; x64) AppleWebKit/537.36 (KHTML, like Gecko) Chrome/91.0.4472.124 Safari/537.36\""
   ]
  },
  {
   "cell_type": "markdown",
   "metadata": {},
   "source": [
    "1. 加载文档"
   ]
  },
  {
   "cell_type": "code",
   "execution_count": 14,
   "metadata": {},
   "outputs": [],
   "source": [
    "from langchain_community.document_loaders import WebBaseLoader # pip install langchain-community\n",
    "\n",
    "loader = WebBaseLoader(\n",
    "    web_paths=(\"https://zh.wikipedia.org/wiki/黑神话：悟空\",)\n",
    ")\n",
    "docs = loader.load()"
   ]
  },
  {
   "cell_type": "markdown",
   "metadata": {},
   "source": [
    "2. 文档分块"
   ]
  },
  {
   "cell_type": "code",
   "execution_count": 15,
   "metadata": {},
   "outputs": [],
   "source": [
    "from langchain_text_splitters import RecursiveCharacterTextSplitter\n",
    "text_splitter = RecursiveCharacterTextSplitter(chunk_size=1000, chunk_overlap=200)\n",
    "all_splits = text_splitter.split_documents(docs)"
   ]
  },
  {
   "cell_type": "markdown",
   "metadata": {},
   "source": [
    "3. 设置嵌入模型"
   ]
  },
  {
   "cell_type": "code",
   "execution_count": 16,
   "metadata": {},
   "outputs": [],
   "source": [
    "from langchain_huggingface import HuggingFaceEmbeddings\n",
    "\n",
    "embeddings = HuggingFaceEmbeddings(\n",
    "    model_name=\"BAAI/bge-small-zh-v1.5\",\n",
    "    model_kwargs={'device': 'cpu'},\n",
    "    encode_kwargs={'normalize_embeddings': True}\n",
    ")"
   ]
  },
  {
   "cell_type": "markdown",
   "metadata": {},
   "source": [
    " 4. 创建向量存储"
   ]
  },
  {
   "cell_type": "code",
   "execution_count": 17,
   "metadata": {},
   "outputs": [
    {
     "data": {
      "text/plain": [
       "['a2549b88-e928-4c93-92b9-5289514c1757',\n",
       " '5a9c30f6-4799-4f6e-9e34-90e93311e4fd',\n",
       " 'ac7dbd8b-0e30-4346-9eb1-715d4c49050c',\n",
       " '1dc73e8d-f7ca-4722-aff2-03d282b413ca',\n",
       " '793a2319-169f-40ac-9ca7-b763a6d1bd6f',\n",
       " '3f01ed88-b791-4566-a1be-676c54890394',\n",
       " 'fffc60e9-9dbf-4696-a041-da3a8033367e',\n",
       " '70b6eaa4-7bf8-4b55-a9e0-10a14d1011d6',\n",
       " '49bd7813-e5da-4562-a680-f4f94e2f51ca',\n",
       " 'e49a292c-1df4-420c-acd0-bba3ef6e514f',\n",
       " '06497bfa-91cd-4d8b-91da-b3c958062006',\n",
       " 'b780dcee-2341-4a7d-8078-808e94e7103e',\n",
       " '299a0e8c-f333-49c7-be4b-6c0116ccf835',\n",
       " '0ee97822-e906-45c3-90b7-54883f13b44c',\n",
       " '1fd2a951-18d6-425a-b6ed-99169ae50a69',\n",
       " '72e81f68-931e-47ea-862a-c10e815dfdb8',\n",
       " '506ab7ff-c218-4010-8e5c-084d4ac9f926',\n",
       " 'f9805344-4dc7-4a76-9f56-7d5abd77c32d',\n",
       " '32e0a3ac-5c5a-4f65-a652-be361c9823de',\n",
       " 'c201a295-7565-454f-a0d4-5414b553f082',\n",
       " '0e7f7d67-1c1e-463c-9db5-264cc704d0c3',\n",
       " 'e2bda05c-04da-414e-8be7-705f2a7fa412',\n",
       " 'dfdb9653-73be-49f8-9705-5a2191491d78',\n",
       " 'd40ce28b-60b9-48ca-a2b6-2a542b1c49b2',\n",
       " 'ceb2f3ad-2b31-4bae-9925-e246e7849141',\n",
       " 'd440303a-9900-4f99-8056-ace049fff98b',\n",
       " 'e27032f8-43be-4dd5-8712-ce10a1445d73',\n",
       " 'a8baf24b-635a-4619-b4cf-2cb97f462084',\n",
       " '0b034b07-8435-44b0-87db-87c2e6743d6b',\n",
       " '67c28ceb-7b9b-44cf-aca4-0e8a6c9aa927',\n",
       " '07c33d05-a4c5-4974-8e92-54b7e5ed728f',\n",
       " 'adca5a9e-1cfb-4fe7-a43d-b3ea7b306080',\n",
       " '977db0fa-c72d-4a46-8050-1bf4fe3eb221',\n",
       " '194391e9-b141-402b-b414-4c21e10d3fd0',\n",
       " 'e0a40e7c-365b-4ba2-92b3-f2105e200401',\n",
       " 'e1f6d83f-2093-48a0-8ed2-c3997d6c076d']"
      ]
     },
     "execution_count": 17,
     "metadata": {},
     "output_type": "execute_result"
    }
   ],
   "source": [
    "from langchain_core.vectorstores import InMemoryVectorStore\n",
    "vector_store = InMemoryVectorStore(embeddings)\n",
    "vector_store.add_documents(all_splits)"
   ]
  },
  {
   "cell_type": "markdown",
   "metadata": {},
   "source": [
    "5. 构建用户查询"
   ]
  },
  {
   "cell_type": "code",
   "execution_count": 18,
   "metadata": {},
   "outputs": [],
   "source": [
    "question = \"黑悟空有哪些游戏场景？\""
   ]
  },
  {
   "cell_type": "markdown",
   "metadata": {},
   "source": [
    "6. 在向量存储中搜索相关文档，并准备上下文内容"
   ]
  },
  {
   "cell_type": "code",
   "execution_count": 19,
   "metadata": {},
   "outputs": [],
   "source": [
    "retrieved_docs = vector_store.similarity_search(question, k=3)\n",
    "docs_content = \"\\n\\n\".join(doc.page_content for doc in retrieved_docs)"
   ]
  },
  {
   "cell_type": "markdown",
   "metadata": {},
   "source": [
    "7. 构建提示模板"
   ]
  },
  {
   "cell_type": "code",
   "execution_count": 20,
   "metadata": {},
   "outputs": [],
   "source": [
    "from langchain_core.prompts import ChatPromptTemplate\n",
    "prompt = ChatPromptTemplate.from_template(\"\"\"\n",
    "                基于以下上下文，回答问题。如果上下文中没有相关信息，\n",
    "                请说\"我无法从提供的上下文中找到相关信息\"。\n",
    "                上下文: {context}\n",
    "                问题: {question}\n",
    "                回答:\"\"\")"
   ]
  },
  {
   "cell_type": "markdown",
   "metadata": {},
   "source": [
    "8. 使用ollama本地大语言模型生成答案"
   ]
  },
  {
   "cell_type": "code",
   "execution_count": 21,
   "metadata": {},
   "outputs": [],
   "source": [
    "from langchain_ollama import ChatOllama # pip install langchain-ollama\n",
    "llm = ChatOllama(\n",
    "    model=\"qwen2.5:3b\",  # 可以根据需要更换其他模型，如 llama2, mistral 等\n",
    "    request_timeout=300.0  # 增加超时时间\n",
    ")"
   ]
  },
  {
   "cell_type": "markdown",
   "metadata": {},
   "source": [
    "9. 生成答案"
   ]
  },
  {
   "cell_type": "code",
   "execution_count": 22,
   "metadata": {},
   "outputs": [
    {
     "name": "stdout",
     "output_type": "stream",
     "text": [
      "问题: 黑悟空有哪些游戏场景？\n",
      "--------------------------------------------------\n",
      "回答: 《黑神话：悟空》中的游戏场景融合了多个中国著名的文化和自然地标，包括但不限于：\n",
      "\n",
      "- 大足石刻（重庆）\n",
      "- 小西天（山西）\n",
      "- 南禅寺、铁佛寺、广胜寺等寺庙建筑\n",
      "- 鹳雀楼\n",
      "\n",
      "此外，游戏地图无法由玩家调整，但会随游戏进展而变化。游戏中的场景旨在提供一种沉浸式的中国古典文化体验，并通过这些地点传达游戏的故事背景和主题元素。\n"
     ]
    }
   ],
   "source": [
    "print(f\"问题: {question}\")\n",
    "print(\"-\"*50)\n",
    "answer = llm.invoke(prompt.format(question=question, context=docs_content))\n",
    "print(f\"回答: {answer.content}\")"
   ]
  }
 ],
 "metadata": {
  "kernelspec": {
   "display_name": "env_LangChain",
   "language": "python",
   "name": "python3"
  },
  "language_info": {
   "codemirror_mode": {
    "name": "ipython",
    "version": 3
   },
   "file_extension": ".py",
   "mimetype": "text/x-python",
   "name": "python",
   "nbconvert_exporter": "python",
   "pygments_lexer": "ipython3",
   "version": "3.11.11"
  }
 },
 "nbformat": 4,
 "nbformat_minor": 2
}
